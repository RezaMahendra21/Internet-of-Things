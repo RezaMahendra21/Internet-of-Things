{
 "cells": [
  {
   "cell_type": "markdown",
   "id": "d9f9bb3c-5a47-4ef3-b6dd-4c6d68fb9c9f",
   "metadata": {},
   "source": [
    "# Auto Encoder\n",
    "- 오토인코더는 정답 없이 모델을 학습시키는 비지도 학습 모델"
   ]
  },
  {
   "cell_type": "code",
   "execution_count": 2,
   "id": "1c6d717f-791e-4ff4-a73a-7f31c4dd8eb3",
   "metadata": {},
   "outputs": [],
   "source": [
    "import torch\n",
    "import torchvision\n",
    "from torchvision import transforms\n",
    "\n",
    "import torch.nn.functional as F\n",
    "import torch.nn as nn\n",
    "\n",
    "import torch.optim as optim\n",
    "\n",
    "import numpy as np\n",
    "import matplotlib.pyplot as plt"
   ]
  },
  {
   "cell_type": "code",
   "execution_count": 5,
   "id": "46cc56fd-8d8e-49fe-bd90-8b43e55102e5",
   "metadata": {},
   "outputs": [],
   "source": [
    "device = torch.device(\"cuda:0\" if torch.cuda.is_available() else \"cpu\")"
   ]
  },
  {
   "cell_type": "code",
   "execution_count": 6,
   "id": "fec6505f-2187-415b-9aaa-b34ac2548f87",
   "metadata": {},
   "outputs": [
    {
     "name": "stdout",
     "output_type": "stream",
     "text": [
      "Downloading http://yann.lecun.com/exdb/mnist/train-images-idx3-ubyte.gz\n",
      "Failed to download (trying next):\n",
      "HTTP Error 403: Forbidden\n",
      "\n",
      "Downloading https://ossci-datasets.s3.amazonaws.com/mnist/train-images-idx3-ubyte.gz\n",
      "Downloading https://ossci-datasets.s3.amazonaws.com/mnist/train-images-idx3-ubyte.gz to ./data/MNIST/raw/train-images-idx3-ubyte.gz\n"
     ]
    },
    {
     "name": "stderr",
     "output_type": "stream",
     "text": [
      "100%|████████████████████████████| 9912422/9912422 [00:02<00:00, 4504272.65it/s]\n"
     ]
    },
    {
     "name": "stdout",
     "output_type": "stream",
     "text": [
      "Extracting ./data/MNIST/raw/train-images-idx3-ubyte.gz to ./data/MNIST/raw\n",
      "\n",
      "Downloading http://yann.lecun.com/exdb/mnist/train-labels-idx1-ubyte.gz\n",
      "Failed to download (trying next):\n",
      "HTTP Error 403: Forbidden\n",
      "\n",
      "Downloading https://ossci-datasets.s3.amazonaws.com/mnist/train-labels-idx1-ubyte.gz\n",
      "Downloading https://ossci-datasets.s3.amazonaws.com/mnist/train-labels-idx1-ubyte.gz to ./data/MNIST/raw/train-labels-idx1-ubyte.gz\n"
     ]
    },
    {
     "name": "stderr",
     "output_type": "stream",
     "text": [
      "100%|█████████████████████████████████| 28881/28881 [00:00<00:00, 140090.50it/s]\n"
     ]
    },
    {
     "name": "stdout",
     "output_type": "stream",
     "text": [
      "Extracting ./data/MNIST/raw/train-labels-idx1-ubyte.gz to ./data/MNIST/raw\n",
      "\n",
      "Downloading http://yann.lecun.com/exdb/mnist/t10k-images-idx3-ubyte.gz\n",
      "Failed to download (trying next):\n",
      "HTTP Error 403: Forbidden\n",
      "\n",
      "Downloading https://ossci-datasets.s3.amazonaws.com/mnist/t10k-images-idx3-ubyte.gz\n",
      "Downloading https://ossci-datasets.s3.amazonaws.com/mnist/t10k-images-idx3-ubyte.gz to ./data/MNIST/raw/t10k-images-idx3-ubyte.gz\n"
     ]
    },
    {
     "name": "stderr",
     "output_type": "stream",
     "text": [
      "100%|█████████████████████████████| 1648877/1648877 [00:01<00:00, 984471.61it/s]\n"
     ]
    },
    {
     "name": "stdout",
     "output_type": "stream",
     "text": [
      "Extracting ./data/MNIST/raw/t10k-images-idx3-ubyte.gz to ./data/MNIST/raw\n",
      "\n",
      "Downloading http://yann.lecun.com/exdb/mnist/t10k-labels-idx1-ubyte.gz\n",
      "Failed to download (trying next):\n",
      "HTTP Error 403: Forbidden\n",
      "\n",
      "Downloading https://ossci-datasets.s3.amazonaws.com/mnist/t10k-labels-idx1-ubyte.gz\n",
      "Downloading https://ossci-datasets.s3.amazonaws.com/mnist/t10k-labels-idx1-ubyte.gz to ./data/MNIST/raw/t10k-labels-idx1-ubyte.gz\n"
     ]
    },
    {
     "name": "stderr",
     "output_type": "stream",
     "text": [
      "100%|██████████████████████████████████| 4542/4542 [00:00<00:00, 1306531.02it/s]"
     ]
    },
    {
     "name": "stdout",
     "output_type": "stream",
     "text": [
      "Extracting ./data/MNIST/raw/t10k-labels-idx1-ubyte.gz to ./data/MNIST/raw\n",
      "\n"
     ]
    },
    {
     "name": "stderr",
     "output_type": "stream",
     "text": [
      "\n"
     ]
    }
   ],
   "source": [
    "dataset = torchvision.datasets.MNIST('./data/', download = True, train = True, transform = transforms.ToTensor())\n",
    "trainloader = torch.utils.data.DataLoader(dataset, batch_size = 50, shuffle = True)\n",
    "# img size in MNIST dataset is 28 * 28 = 784"
   ]
  },
  {
   "cell_type": "markdown",
   "id": "922ce3a0-3d57-489e-a8d2-508d497335f8",
   "metadata": {},
   "source": [
    "## Construct Model"
   ]
  },
  {
   "cell_type": "code",
   "execution_count": 9,
   "id": "87cba025-9ab8-4d6a-b392-7b199e6e4563",
   "metadata": {},
   "outputs": [],
   "source": [
    "class AutoEncoder(nn.Module):\n",
    "    def __init__(self):\n",
    "        super(AutoEncoder, self).__init__()\n",
    "        self.encoder = nn.Sequential(\n",
    "            nn.Linear(784, 128),\n",
    "            nn.ReLU(),\n",
    "            nn.Linear(128, 32),\n",
    "            nn.ReLU(),\n",
    "            nn.Linear(32, 10),\n",
    "            nn.ReLU())\n",
    "        self.decoder = nn.Sequential(\n",
    "            nn.Linear(10, 32),\n",
    "            nn.ReLU(),\n",
    "            nn.Linear(32, 128),\n",
    "            nn.ReLU(),\n",
    "            nn.Linear(128, 28*28),\n",
    "            nn.Sigmoid())\n",
    "\n",
    "    def forward(self, x):\n",
    "        encoded = self.encoder(x)\n",
    "        decoded = self.decoder(encoded)\n",
    "        return decoded"
   ]
  },
  {
   "cell_type": "markdown",
   "id": "09de822e-6393-4436-8723-0b60694daed3",
   "metadata": {},
   "source": [
    "## 1. 스택 오토인코더(Stacked Autoencoder)"
   ]
  },
  {
   "cell_type": "code",
   "execution_count": 10,
   "id": "ea5f82cb-b432-4a4a-9cba-0e26bb3860f2",
   "metadata": {},
   "outputs": [],
   "source": [
    "model = AutoEncoder().to(device)\n",
    "criterion = nn.MSELoss()\n",
    "optimizer = optim.Adam(model.parameters(), lr=1e-4)"
   ]
  },
  {
   "cell_type": "code",
   "execution_count": 11,
   "id": "d967c2d2-6465-4334-bcaf-9820fd8bbea6",
   "metadata": {
    "scrolled": true
   },
   "outputs": [
    {
     "name": "stdout",
     "output_type": "stream",
     "text": [
      "1 loss: 0.081\n",
      "2 loss: 0.054\n",
      "3 loss: 0.044\n",
      "4 loss: 0.039\n",
      "5 loss: 0.035\n",
      "6 loss: 0.033\n",
      "7 loss: 0.031\n",
      "8 loss: 0.030\n",
      "9 loss: 0.030\n",
      "10 loss: 0.029\n",
      "11 loss: 0.028\n",
      "12 loss: 0.028\n",
      "13 loss: 0.027\n",
      "14 loss: 0.027\n",
      "15 loss: 0.026\n",
      "16 loss: 0.026\n",
      "17 loss: 0.025\n",
      "18 loss: 0.025\n",
      "19 loss: 0.025\n",
      "20 loss: 0.024\n",
      "21 loss: 0.024\n",
      "22 loss: 0.024\n",
      "23 loss: 0.024\n",
      "24 loss: 0.024\n",
      "25 loss: 0.023\n",
      "26 loss: 0.023\n",
      "27 loss: 0.023\n",
      "28 loss: 0.023\n",
      "29 loss: 0.023\n",
      "30 loss: 0.023\n",
      "31 loss: 0.023\n",
      "32 loss: 0.023\n",
      "33 loss: 0.022\n",
      "34 loss: 0.022\n",
      "35 loss: 0.022\n",
      "36 loss: 0.022\n",
      "37 loss: 0.022\n",
      "38 loss: 0.022\n",
      "39 loss: 0.022\n",
      "40 loss: 0.022\n",
      "41 loss: 0.022\n",
      "42 loss: 0.022\n",
      "43 loss: 0.022\n",
      "44 loss: 0.021\n",
      "45 loss: 0.021\n",
      "46 loss: 0.021\n",
      "47 loss: 0.021\n",
      "48 loss: 0.021\n",
      "49 loss: 0.021\n",
      "50 loss: 0.021\n",
      "51 loss: 0.021\n"
     ]
    }
   ],
   "source": [
    "for epoch in range(51):\n",
    "    running_loss = 0.0\n",
    "    for data in trainloader:\n",
    "        inputs = data[0].to(device)\n",
    "        optimizer.zero_grad()\n",
    "        outputs = model(inputs.view(-1, 28*28)) # batch_size x 784 의 형태로 들어감\n",
    "        outputs = outputs.view(-1, 1, 28, 28)\n",
    "        loss = criterion(inputs, outputs)\n",
    "        loss.backward()\n",
    "        optimizer.step()\n",
    "        running_loss += loss.item()\n",
    "    cost = running_loss / len(trainloader)\n",
    "    print(f\"{epoch+1} loss: {cost:.3f}\")"
   ]
  },
  {
   "cell_type": "code",
   "execution_count": 26,
   "id": "97121849-5d1d-4218-b819-7e5f46c82625",
   "metadata": {},
   "outputs": [
    {
     "data": {
      "image/png": "[encoded data removed]",
      "text/plain": [
       "<Figure size 1200x500 with 10 Axes>"
      ]
     },
     "metadata": {},
     "output_type": "display_data"
    }
   ],
   "source": [
    "fig, axes = plt.subplots(2, 5, figsize=(12, 5))\n",
    "\n",
    "axes = axes.flatten()\n",
    "\n",
    "for i in range(10):\n",
    "    axes[i].imshow(outputs[i].cpu().detach().numpy().squeeze(), cmap='gray')\n",
    "    axes[i].set_title(\"Reconstructed\")\n",
    "    axes[i].axis('off') \n",
    "    \n",
    "plt.tight_layout()\n",
    "plt.show()"
   ]
  },
  {
   "cell_type": "markdown",
   "id": "94f150a9-071e-4dbf-a024-dc4ad3f0e227",
   "metadata": {},
   "source": [
    "## 2. 디노이징 오토인코더(Denoising Autoencoder)\n",
    "- 입력 이미지에 가우시안 노이즈 주입\n",
    "- 가우시안 노이즈: 평균이 0이고 표준 편차가 1인 가우시안 분포를 따르는 노이즈"
   ]
  },
  {
   "cell_type": "code",
   "execution_count": 27,
   "id": "bdc361ac-443c-42fb-9471-e68e5adc39fa",
   "metadata": {},
   "outputs": [],
   "source": [
    "model = AutoEncoder().to(device)\n",
    "criterion = nn.MSELoss()\n",
    "optimizer = optim.Adam(model.parameters(), lr=1e-4)"
   ]
  },
  {
   "cell_type": "code",
   "execution_count": 28,
   "id": "ae018633-2f17-4037-b6c3-525d5c760401",
   "metadata": {
    "scrolled": true
   },
   "outputs": [
    {
     "name": "stdout",
     "output_type": "stream",
     "text": [
      "1 loss: 0.083\n",
      "2 loss: 0.059\n",
      "3 loss: 0.052\n",
      "4 loss: 0.044\n",
      "5 loss: 0.042\n",
      "6 loss: 0.039\n",
      "7 loss: 0.038\n",
      "8 loss: 0.036\n",
      "9 loss: 0.035\n",
      "10 loss: 0.034\n",
      "11 loss: 0.033\n",
      "12 loss: 0.032\n",
      "13 loss: 0.032\n",
      "14 loss: 0.031\n",
      "15 loss: 0.031\n",
      "16 loss: 0.030\n",
      "17 loss: 0.030\n",
      "18 loss: 0.030\n",
      "19 loss: 0.029\n",
      "20 loss: 0.029\n",
      "21 loss: 0.029\n",
      "22 loss: 0.028\n",
      "23 loss: 0.028\n",
      "24 loss: 0.028\n",
      "25 loss: 0.028\n",
      "26 loss: 0.028\n",
      "27 loss: 0.027\n",
      "28 loss: 0.027\n",
      "29 loss: 0.027\n",
      "30 loss: 0.027\n",
      "31 loss: 0.027\n",
      "32 loss: 0.027\n",
      "33 loss: 0.027\n",
      "34 loss: 0.026\n",
      "35 loss: 0.026\n",
      "36 loss: 0.026\n",
      "37 loss: 0.026\n",
      "38 loss: 0.026\n",
      "39 loss: 0.026\n",
      "40 loss: 0.026\n",
      "41 loss: 0.026\n",
      "42 loss: 0.026\n",
      "43 loss: 0.025\n",
      "44 loss: 0.025\n",
      "45 loss: 0.025\n",
      "46 loss: 0.025\n",
      "47 loss: 0.025\n",
      "48 loss: 0.025\n",
      "49 loss: 0.025\n",
      "50 loss: 0.025\n",
      "51 loss: 0.025\n"
     ]
    }
   ],
   "source": [
    "# 가우시안 노이즈 주입\n",
    "\n",
    "for epoch in range(51):\n",
    "    running_loss = 0.0\n",
    "    for data in trainloader:\n",
    "        inputs = data[0].to(device)\n",
    "        optimizer.zero_grad()\n",
    "\n",
    "        dirty_inputs = inputs + torch.normal(0, 0.5, size = inputs.size()).to(device)\n",
    "        \n",
    "        outputs = model(dirty_inputs.view(-1, 28*28)) # batch_size x 784 의 형태로 들어감\n",
    "        outputs = outputs.view(-1, 1, 28, 28)\n",
    "        loss = criterion(inputs, outputs)\n",
    "        loss.backward()\n",
    "        optimizer.step()\n",
    "        running_loss += loss.item()\n",
    "    cost = running_loss / len(trainloader)\n",
    "    print(f\"{epoch+1} loss: {cost:.3f}\")"
   ]
  },
  {
   "cell_type": "code",
   "execution_count": 29,
   "id": "8585f31a-e8ec-4fde-bf3a-3023b955c3ef",
   "metadata": {},
   "outputs": [
    {
     "data": {
      "image/png": "[encoded data removed]",
      "text/plain": [
       "<Figure size 1200x500 with 10 Axes>"
      ]
     },
     "metadata": {},
     "output_type": "display_data"
    }
   ],
   "source": [
    "fig, axes = plt.subplots(2, 5, figsize=(12, 5))\n",
    "\n",
    "axes = axes.flatten()\n",
    "\n",
    "for i in range(10):\n",
    "    axes[i].imshow(outputs[i].cpu().detach().numpy().squeeze(), cmap='gray')\n",
    "    axes[i].set_title(\"Reconstructed\")\n",
    "    axes[i].axis('off') \n",
    "    \n",
    "plt.tight_layout()\n",
    "plt.show()"
   ]
  },
  {
   "cell_type": "markdown",
   "id": "526d11d9-fd80-499b-9d01-e4fa897a6b0f",
   "metadata": {},
   "source": [
    "## 3. 합성곱 오토인코더(Convolutional Autoencoder)"
   ]
  },
  {
   "cell_type": "code",
   "execution_count": 69,
   "id": "3fe55f18-19a8-4458-a776-f1f061e1eecc",
   "metadata": {},
   "outputs": [],
   "source": [
    "class Flatten(nn.Module):\n",
    "    def forward(self, x):\n",
    "        batch_size = x.shape[0]\n",
    "        return x.view(batch_size, -1)\n",
    "\n",
    "class Deflatten(nn.Module):\n",
    "    def __init__(self, k, height, width):\n",
    "        super(Deflatten, self).__init__()\n",
    "        self.k = k\n",
    "        self.height = height\n",
    "        self.width = width\n",
    "\n",
    "    def forward(self, x):\n",
    "        s = x.size()\n",
    "        # Reshape to (batch_size, channels, height, width)\n",
    "        return x.view(s[0], self.k, self.height, self.width)\n",
    "\n",
    "class AutoEncoder(nn.Module):\n",
    "    def __init__(self):\n",
    "        super(AutoEncoder, self).__init__()\n",
    "        k = 16\n",
    "        self.encoder = nn.Sequential(\n",
    "            nn.Conv2d(1, k, 3, stride=2),  # Output: (batch_size, 16, 13, 13)\n",
    "            nn.ReLU(),\n",
    "            nn.Conv2d(k, 2*k, 3, stride=2),  # Output: (batch_size, 32, 6, 6)\n",
    "            nn.ReLU(),\n",
    "            nn.Conv2d(2*k, 4*k, 3, stride=1),  # Output: (batch_size, 64, 4, 4)\n",
    "            nn.ReLU(),\n",
    "            Flatten(),\n",
    "            nn.Linear(4*k*4*4, 10),  # Output: (batch_size, 10)\n",
    "            nn.ReLU()\n",
    "        )\n",
    "        self.decoder = nn.Sequential(\n",
    "            nn.Linear(10, 4*k*4*4),  # Output: (batch_size, 1024)\n",
    "            nn.ReLU(),\n",
    "            Deflatten(4*k, 4, 4),  # Reshape to (batch_size, 64, 4, 4)\n",
    "            nn.ConvTranspose2d(4*k, 2*k, 3, stride=1),  # Output: (batch_size, 32, 6, 6)\n",
    "            nn.ReLU(),\n",
    "            nn.ConvTranspose2d(2*k, k, 3, stride=2, output_padding=1),  # Output: (batch_size, 16, 13, 13)\n",
    "            nn.ReLU(),\n",
    "            nn.ConvTranspose2d(k, 1, 3, stride=2, padding=1, output_padding=1),  # Adjust this layer\n",
    "            nn.Sigmoid()  # Output: (batch_size, 1, 28, 28)\n",
    "        )\n",
    "\n",
    "    def forward(self, x):\n",
    "        encoded = self.encoder(x)\n",
    "        decoded = self.decoder(encoded)\n",
    "        return decoded\n"
   ]
  },
  {
   "cell_type": "markdown",
   "id": "6a0b0a93-6171-456e-9dc2-b1abf531a39a",
   "metadata": {},
   "source": [
    "- 위 인코더를 거친 feature map의 size는 (batch_size, channels, height, width)\n",
    "- 배치 사이즈가 현재 이미지의 개수이므로 벡터가 배치 사이즈 만큼 존재해야 함\n",
    "- 즉, 각 feature data를 일렬로 변환해야 함"
   ]
  },
  {
   "cell_type": "code",
   "execution_count": 70,
   "id": "b632fbaf-4825-4d28-9392-59146e6eb7d0",
   "metadata": {},
   "outputs": [
    {
     "name": "stdout",
     "output_type": "stream",
     "text": [
      "Input shape: torch.Size([1, 1, 28, 28])\n",
      "Output shape: torch.Size([1, 1, 28, 28])\n"
     ]
    }
   ],
   "source": [
    "# Instantiate the model\n",
    "model = AutoEncoder().to(device)\n",
    "\n",
    "# Pass a dummy input through the model\n",
    "dummy_input = torch.randn(1, 1, 28, 28).to(device)\n",
    "output = model(dummy_input)\n",
    "\n",
    "print(f\"Input shape: {dummy_input.shape}\")\n",
    "print(f\"Output shape: {output.shape}\")\n"
   ]
  },
  {
   "cell_type": "code",
   "execution_count": 71,
   "id": "fead8c8e-8ff5-41f2-8a5c-8c06dbb63102",
   "metadata": {},
   "outputs": [],
   "source": [
    "model = AutoEncoder().to(device)\n",
    "criterion = nn.MSELoss()\n",
    "optimizer = optim.Adam(model.parameters(), lr = 1e-3)"
   ]
  },
  {
   "cell_type": "code",
   "execution_count": 72,
   "id": "2f87bea6-3cf6-4a95-9c34-689ef34b6611",
   "metadata": {},
   "outputs": [
    {
     "name": "stdout",
     "output_type": "stream",
     "text": [
      "1 loss: 0.063\n",
      "11 loss: 0.025\n",
      "21 loss: 0.024\n",
      "31 loss: 0.023\n",
      "41 loss: 0.023\n",
      "51 loss: 0.022\n"
     ]
    }
   ],
   "source": [
    "for epoch in range(51):\n",
    "    running_loss = 0.0\n",
    "    for data in trainloader:\n",
    "        inputs = data[0].to(device)\n",
    "        optimizer.zero_grad()\n",
    "        outputs = model(inputs)\n",
    "        loss = criterion(inputs, outputs)\n",
    "        loss.backward()\n",
    "        optimizer.step()\n",
    "        running_loss += loss.item()\n",
    "\n",
    "    cost = running_loss / len(trainloader)\n",
    "    if epoch % 10 == 0:\n",
    "        print(f\"{epoch + 1} loss: {cost:.3f}\")"
   ]
  },
  {
   "cell_type": "code",
   "execution_count": 73,
   "id": "3bd60eaa-0e0e-466b-87cc-c465cbde03ca",
   "metadata": {},
   "outputs": [
    {
     "data": {
      "image/png": "[encoded data removed]",
      "text/plain": [
       "<Figure size 1200x500 with 10 Axes>"
      ]
     },
     "metadata": {},
     "output_type": "display_data"
    }
   ],
   "source": [
    "fig, axes = plt.subplots(2, 5, figsize=(12, 5))\n",
    "\n",
    "axes = axes.flatten()\n",
    "\n",
    "for i in range(10):\n",
    "    axes[i].imshow(outputs[i].cpu().detach().numpy().squeeze(), cmap='gray')\n",
    "    axes[i].set_title(\"Reconstructed\")\n",
    "    axes[i].axis('off') \n",
    "    \n",
    "plt.tight_layout()\n",
    "plt.show()"
   ]
  },
  {
   "cell_type": "code",
   "execution_count": null,
   "id": "d2c7cc61-f768-441d-879b-d00cda4f7419",
   "metadata": {},
   "outputs": [],
   "source": []
  }
 ],
 "metadata": {
  "kernelspec": {
   "display_name": "Python 3 (ipykernel)",
   "language": "python",
   "name": "python3"
  },
  "language_info": {
   "codemirror_mode": {
    "name": "ipython",
    "version": 3
   },
   "file_extension": ".py",
   "mimetype": "text/x-python",
   "name": "python",
   "nbconvert_exporter": "python",
   "pygments_lexer": "ipython3",
   "version": "3.10.14"
  }
 },
 "nbformat": 4,
 "nbformat_minor": 5
}
