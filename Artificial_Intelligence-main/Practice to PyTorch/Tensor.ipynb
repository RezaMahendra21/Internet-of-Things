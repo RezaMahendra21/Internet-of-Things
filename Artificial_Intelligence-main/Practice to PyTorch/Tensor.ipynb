{
 "cells": [
  {
   "cell_type": "code",
   "execution_count": 2,
   "id": "8123533d-ac19-448d-80f3-8f8c559e2c8f",
   "metadata": {},
   "outputs": [],
   "source": [
    "import torch\n",
    "import numpy as np"
   ]
  },
  {
   "cell_type": "code",
   "execution_count": 3,
   "id": "b02c5036-3bb1-4fd8-b014-907891decb57",
   "metadata": {},
   "outputs": [
    {
     "data": {
      "text/plain": [
       "tensor([[-3.7761e-12,  4.5747e-41, -3.7761e-12,  4.5747e-41],\n",
       "        [ 0.0000e+00,  0.0000e+00,  0.0000e+00,  0.0000e+00],\n",
       "        [ 1.8217e-44,  0.0000e+00,  2.6856e-34,  0.0000e+00],\n",
       "        [ 1.5849e-42,  2.2405e-01,  0.0000e+00,  0.0000e+00],\n",
       "        [ 1.8217e-44,  4.5747e-41,  2.6856e-34,  0.0000e+00]])"
      ]
     },
     "execution_count": 3,
     "metadata": {},
     "output_type": "execute_result"
    }
   ],
   "source": [
    "x = torch.empty(5, 4)\n",
    "x"
   ]
  },
  {
   "cell_type": "code",
   "execution_count": 5,
   "id": "49178173-5bd4-4708-9b76-20396acb6883",
   "metadata": {},
   "outputs": [
    {
     "data": {
      "text/plain": [
       "tensor([[1., 1., 1.],\n",
       "        [1., 1., 1.],\n",
       "        [1., 1., 1.]])"
      ]
     },
     "execution_count": 5,
     "metadata": {},
     "output_type": "execute_result"
    }
   ],
   "source": [
    "torch.ones(3, 3)"
   ]
  },
  {
   "cell_type": "code",
   "execution_count": 6,
   "id": "1498cf4f-f3ac-41f1-a163-d7d4f5b900d5",
   "metadata": {},
   "outputs": [
    {
     "data": {
      "text/plain": [
       "tensor([[[0., 0.],\n",
       "         [0., 0.]],\n",
       "\n",
       "        [[0., 0.],\n",
       "         [0., 0.]]])"
      ]
     },
     "execution_count": 6,
     "metadata": {},
     "output_type": "execute_result"
    }
   ],
   "source": [
    "torch.zeros(2, 2, 2)"
   ]
  },
  {
   "cell_type": "code",
   "execution_count": 7,
   "id": "c011342e-6309-4578-9326-d6bbf1b976b5",
   "metadata": {},
   "outputs": [
    {
     "data": {
      "text/plain": [
       "tensor([[0.4310, 0.6596, 0.6259, 0.2063, 0.2186, 0.0876],\n",
       "        [0.7717, 0.0236, 0.7535, 0.4206, 0.3215, 0.0959],\n",
       "        [0.9998, 0.5275, 0.9737, 0.6481, 0.8803, 0.8318],\n",
       "        [0.5243, 0.1548, 0.7529, 0.6391, 0.7816, 0.2934],\n",
       "        [0.4036, 0.7785, 0.2118, 0.6019, 0.3464, 0.0323]])"
      ]
     },
     "execution_count": 7,
     "metadata": {},
     "output_type": "execute_result"
    }
   ],
   "source": [
    "torch.rand(5, 6)"
   ]
  },
  {
   "cell_type": "code",
   "execution_count": 9,
   "id": "2cecbc55-448c-44ac-b4d2-9de61837041c",
   "metadata": {},
   "outputs": [
    {
     "data": {
      "text/plain": [
       "tensor([13,  4])"
      ]
     },
     "execution_count": 9,
     "metadata": {},
     "output_type": "execute_result"
    }
   ],
   "source": [
    "l = [13, 4]\n",
    "r = np.array([4, 56, 7])\n",
    "torch.tensor(l)"
   ]
  },
  {
   "cell_type": "code",
   "execution_count": 10,
   "id": "7e3617df-3327-459a-a83c-151952a6eb84",
   "metadata": {},
   "outputs": [
    {
     "data": {
      "text/plain": [
       "tensor([ 4, 56,  7])"
      ]
     },
     "execution_count": 10,
     "metadata": {},
     "output_type": "execute_result"
    }
   ],
   "source": [
    "torch.tensor(r)"
   ]
  },
  {
   "cell_type": "code",
   "execution_count": 11,
   "id": "451becc9-9f3c-4915-82bf-84a1f009e18a",
   "metadata": {},
   "outputs": [
    {
     "data": {
      "text/plain": [
       "4"
      ]
     },
     "execution_count": 11,
     "metadata": {},
     "output_type": "execute_result"
    }
   ],
   "source": [
    "x.size()[1]"
   ]
  },
  {
   "cell_type": "code",
   "execution_count": 12,
   "id": "8e490956-82a9-46d9-a908-36da3d8c9bd4",
   "metadata": {},
   "outputs": [
    {
     "data": {
      "text/plain": [
       "5"
      ]
     },
     "execution_count": 12,
     "metadata": {},
     "output_type": "execute_result"
    }
   ],
   "source": [
    "x.size()[0]"
   ]
  },
  {
   "cell_type": "code",
   "execution_count": 13,
   "id": "096a4ff1-3325-4cac-af23-067bd30ef263",
   "metadata": {},
   "outputs": [],
   "source": [
    "x = torch.rand(2, 2)\n",
    "y = torch.rand(2, 2)"
   ]
  },
  {
   "cell_type": "code",
   "execution_count": 14,
   "id": "cc9bc2e8-e4e3-492a-8143-a535dd551cf8",
   "metadata": {},
   "outputs": [
    {
     "data": {
      "text/plain": [
       "tensor([[1.0025, 0.4808],\n",
       "        [0.3192, 1.1240]])"
      ]
     },
     "execution_count": 14,
     "metadata": {},
     "output_type": "execute_result"
    }
   ],
   "source": [
    "x + y"
   ]
  },
  {
   "cell_type": "code",
   "execution_count": 15,
   "id": "70aa8853-facd-45cf-92bf-e6ce83ee56bd",
   "metadata": {},
   "outputs": [
    {
     "data": {
      "text/plain": [
       "tensor([[-0.8029,  0.1997],\n",
       "        [ 0.1274, -0.6249]])"
      ]
     },
     "execution_count": 15,
     "metadata": {},
     "output_type": "execute_result"
    }
   ],
   "source": [
    "x - y"
   ]
  },
  {
   "cell_type": "code",
   "execution_count": 16,
   "id": "b1e3901b-b5da-420d-b073-eee62effbeac",
   "metadata": {},
   "outputs": [
    {
     "data": {
      "text/plain": [
       "tensor([[0.0901, 0.0478],\n",
       "        [0.0214, 0.2182]])"
      ]
     },
     "execution_count": 16,
     "metadata": {},
     "output_type": "execute_result"
    }
   ],
   "source": [
    "x * y"
   ]
  },
  {
   "cell_type": "code",
   "execution_count": 17,
   "id": "329da76e-7fab-446c-8443-2a8773f696c1",
   "metadata": {},
   "outputs": [
    {
     "data": {
      "text/plain": [
       "torch.Size([8, 8])"
      ]
     },
     "execution_count": 17,
     "metadata": {},
     "output_type": "execute_result"
    }
   ],
   "source": [
    "x = torch.rand(8, 8)\n",
    "x.size()"
   ]
  },
  {
   "cell_type": "code",
   "execution_count": 18,
   "id": "ead97449-bb02-494b-b116-58f7651b7884",
   "metadata": {},
   "outputs": [
    {
     "data": {
      "text/plain": [
       "torch.Size([64])"
      ]
     },
     "execution_count": 18,
     "metadata": {},
     "output_type": "execute_result"
    }
   ],
   "source": [
    "a = x.view(64)\n",
    "a.size()"
   ]
  },
  {
   "cell_type": "code",
   "execution_count": 19,
   "id": "f1740c6a-b633-458c-a278-8246b641c69c",
   "metadata": {},
   "outputs": [
    {
     "data": {
      "text/plain": [
       "tensor([0.7190, 0.3060, 0.0209, 0.2476, 0.1641, 0.2555, 0.1289, 0.8309, 0.6818,\n",
       "        0.9371, 0.8548, 0.6727, 0.2647, 0.9919, 0.9099, 0.2022, 0.5495, 0.1873,\n",
       "        0.9969, 0.8591, 0.9500, 0.1245, 0.8066, 0.0252, 0.6724, 0.5975, 0.7749,\n",
       "        0.3197, 0.0088, 0.9026, 0.9393, 0.6105, 0.9201, 0.5216, 0.9063, 0.1827,\n",
       "        0.2246, 0.6615, 0.7207, 0.9002, 0.5848, 0.5429, 0.5772, 0.8096, 0.6605,\n",
       "        0.6343, 0.1809, 0.7287, 0.8958, 0.2787, 0.7523, 0.8852, 0.4710, 0.6392,\n",
       "        0.1260, 0.9431, 0.7909, 0.7231, 0.5006, 0.5039, 0.4290, 0.1759, 0.4063,\n",
       "        0.9533])"
      ]
     },
     "execution_count": 19,
     "metadata": {},
     "output_type": "execute_result"
    }
   ],
   "source": [
    "a"
   ]
  },
  {
   "cell_type": "code",
   "execution_count": 20,
   "id": "a6dbf104-881e-49fc-9851-d1757e3157bc",
   "metadata": {},
   "outputs": [
    {
     "data": {
      "text/plain": [
       "torch.Size([4, 4, 4])"
      ]
     },
     "execution_count": 20,
     "metadata": {},
     "output_type": "execute_result"
    }
   ],
   "source": [
    "b = x.view(-1, 4, 4)\n",
    "b.size()"
   ]
  },
  {
   "cell_type": "code",
   "execution_count": 21,
   "id": "633797e5-843a-440f-89a9-490b57dfcf11",
   "metadata": {},
   "outputs": [
    {
     "data": {
      "text/plain": [
       "tensor([[[0.7190, 0.3060, 0.0209, 0.2476],\n",
       "         [0.1641, 0.2555, 0.1289, 0.8309],\n",
       "         [0.6818, 0.9371, 0.8548, 0.6727],\n",
       "         [0.2647, 0.9919, 0.9099, 0.2022]],\n",
       "\n",
       "        [[0.5495, 0.1873, 0.9969, 0.8591],\n",
       "         [0.9500, 0.1245, 0.8066, 0.0252],\n",
       "         [0.6724, 0.5975, 0.7749, 0.3197],\n",
       "         [0.0088, 0.9026, 0.9393, 0.6105]],\n",
       "\n",
       "        [[0.9201, 0.5216, 0.9063, 0.1827],\n",
       "         [0.2246, 0.6615, 0.7207, 0.9002],\n",
       "         [0.5848, 0.5429, 0.5772, 0.8096],\n",
       "         [0.6605, 0.6343, 0.1809, 0.7287]],\n",
       "\n",
       "        [[0.8958, 0.2787, 0.7523, 0.8852],\n",
       "         [0.4710, 0.6392, 0.1260, 0.9431],\n",
       "         [0.7909, 0.7231, 0.5006, 0.5039],\n",
       "         [0.4290, 0.1759, 0.4063, 0.9533]]])"
      ]
     },
     "execution_count": 21,
     "metadata": {},
     "output_type": "execute_result"
    }
   ],
   "source": [
    "b"
   ]
  },
  {
   "cell_type": "code",
   "execution_count": 22,
   "id": "3179f302-fec2-425f-8fdc-cbb370232f7e",
   "metadata": {},
   "outputs": [
    {
     "data": {
      "text/plain": [
       "numpy.ndarray"
      ]
     },
     "execution_count": 22,
     "metadata": {},
     "output_type": "execute_result"
    }
   ],
   "source": [
    "x = torch.rand(8, 8)\n",
    "y = x.numpy()\n",
    "type(y)"
   ]
  },
  {
   "cell_type": "code",
   "execution_count": 23,
   "id": "d3fc35db-952b-418f-b623-44888a66ea54",
   "metadata": {},
   "outputs": [
    {
     "data": {
      "text/plain": [
       "1.0"
      ]
     },
     "execution_count": 23,
     "metadata": {},
     "output_type": "execute_result"
    }
   ],
   "source": [
    "x = torch.ones(1)\n",
    "x.item()"
   ]
  },
  {
   "cell_type": "code",
   "execution_count": null,
   "id": "37d8e280-8a12-4759-bf26-272521769f97",
   "metadata": {},
   "outputs": [],
   "source": []
  }
 ],
 "metadata": {
  "kernelspec": {
   "display_name": "Python 3 (ipykernel)",
   "language": "python",
   "name": "python3"
  },
  "language_info": {
   "codemirror_mode": {
    "name": "ipython",
    "version": 3
   },
   "file_extension": ".py",
   "mimetype": "text/x-python",
   "name": "python",
   "nbconvert_exporter": "python",
   "pygments_lexer": "ipython3",
   "version": "3.10.14"
  }
 },
 "nbformat": 4,
 "nbformat_minor": 5
}
