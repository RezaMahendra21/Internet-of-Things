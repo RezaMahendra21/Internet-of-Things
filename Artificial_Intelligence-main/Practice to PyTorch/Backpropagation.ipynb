{
 "cells": [
  {
   "cell_type": "code",
   "execution_count": 8,
   "id": "0b46c068-da9f-4d38-8a9f-a21bc5ce7bd0",
   "metadata": {},
   "outputs": [
    {
     "name": "stdout",
     "output_type": "stream",
     "text": [
      "Result: 8.0\n"
     ]
    }
   ],
   "source": [
    "import torch\n",
    "\n",
    "x = torch.ones(2, 2, requires_grad = True)\n",
    "y = x + 1\n",
    "z = 2 * y ** 2\n",
    "r = z.mean()\n",
    "print(f\"Result: {r}\")"
   ]
  },
  {
   "cell_type": "code",
   "execution_count": 9,
   "id": "6ccc4c8b-41b4-4779-8efe-0d56ea378329",
   "metadata": {},
   "outputs": [
    {
     "data": {
      "text/plain": [
       "tensor([[1., 1.],\n",
       "        [1., 1.]], requires_grad=True)"
      ]
     },
     "execution_count": 9,
     "metadata": {},
     "output_type": "execute_result"
    }
   ],
   "source": [
    "x"
   ]
  },
  {
   "cell_type": "code",
   "execution_count": 10,
   "id": "dcce572b-cd49-4d4b-91b8-aa8ae76c2976",
   "metadata": {},
   "outputs": [
    {
     "data": {
      "text/plain": [
       "tensor([[2., 2.],\n",
       "        [2., 2.]], grad_fn=<AddBackward0>)"
      ]
     },
     "execution_count": 10,
     "metadata": {},
     "output_type": "execute_result"
    }
   ],
   "source": [
    "y"
   ]
  },
  {
   "cell_type": "code",
   "execution_count": 11,
   "id": "d61f9345-5e51-439b-8fc6-e49d25925525",
   "metadata": {},
   "outputs": [
    {
     "data": {
      "text/plain": [
       "tensor([[8., 8.],\n",
       "        [8., 8.]], grad_fn=<MulBackward0>)"
      ]
     },
     "execution_count": 11,
     "metadata": {},
     "output_type": "execute_result"
    }
   ],
   "source": [
    "z"
   ]
  },
  {
   "cell_type": "code",
   "execution_count": 12,
   "id": "057a299a-f7ed-4075-b15f-8d537711aea4",
   "metadata": {},
   "outputs": [
    {
     "data": {
      "text/plain": [
       "tensor(8., grad_fn=<MeanBackward0>)"
      ]
     },
     "execution_count": 12,
     "metadata": {},
     "output_type": "execute_result"
    }
   ],
   "source": [
    "r"
   ]
  },
  {
   "cell_type": "code",
   "execution_count": 13,
   "id": "6e31e8b4-db78-4127-b215-9510b89880e4",
   "metadata": {},
   "outputs": [
    {
     "name": "stdout",
     "output_type": "stream",
     "text": [
      "tensor([[2., 2.],\n",
      "        [2., 2.]])\n"
     ]
    }
   ],
   "source": [
    "r.backward()\n",
    "print(x.grad)"
   ]
  },
  {
   "cell_type": "code",
   "execution_count": 17,
   "id": "5349e621-c2b3-4850-bda6-84690742fe7b",
   "metadata": {},
   "outputs": [],
   "source": [
    "import matplotlib.pyplot as plt\n",
    "\n",
    "x = torch.FloatTensor(range(5))"
   ]
  },
  {
   "cell_type": "code",
   "execution_count": 18,
   "id": "8d3991b3-c2ba-48ab-9d95-e537cb770fb7",
   "metadata": {},
   "outputs": [
    {
     "data": {
      "text/plain": [
       "tensor([0., 1., 2., 3., 4.])"
      ]
     },
     "execution_count": 18,
     "metadata": {},
     "output_type": "execute_result"
    }
   ],
   "source": [
    "x"
   ]
  },
  {
   "cell_type": "code",
   "execution_count": 19,
   "id": "9bb948a2-fab1-470b-8cc9-4cedc290a388",
   "metadata": {},
   "outputs": [],
   "source": [
    "x = torch.FloatTensor(range(5)).unsqueeze(1)"
   ]
  },
  {
   "cell_type": "code",
   "execution_count": 20,
   "id": "1e913d99-60dd-4e46-983e-0b836f817015",
   "metadata": {},
   "outputs": [
    {
     "data": {
      "text/plain": [
       "tensor([[0.],\n",
       "        [1.],\n",
       "        [2.],\n",
       "        [3.],\n",
       "        [4.]])"
      ]
     },
     "execution_count": 20,
     "metadata": {},
     "output_type": "execute_result"
    }
   ],
   "source": [
    "x"
   ]
  },
  {
   "cell_type": "code",
   "execution_count": 21,
   "id": "36aae576-221c-402d-a634-92bdecff05f1",
   "metadata": {},
   "outputs": [],
   "source": [
    "y = 2*x + torch.rand(5, 1)"
   ]
  },
  {
   "cell_type": "code",
   "execution_count": 22,
   "id": "5d6d5810-ec8b-4582-a127-b0094f98e178",
   "metadata": {},
   "outputs": [
    {
     "data": {
      "text/plain": [
       "tensor([[0.1723],\n",
       "        [2.0202],\n",
       "        [4.4790],\n",
       "        [6.1536],\n",
       "        [8.1339]])"
      ]
     },
     "execution_count": 22,
     "metadata": {},
     "output_type": "execute_result"
    }
   ],
   "source": [
    "y"
   ]
  },
  {
   "cell_type": "code",
   "execution_count": 23,
   "id": "ba4b7795-32da-4eb8-97a5-8568b46e0a9b",
   "metadata": {},
   "outputs": [],
   "source": [
    "num_features = x.shape[1]"
   ]
  },
  {
   "cell_type": "code",
   "execution_count": 24,
   "id": "6e04729d-f7f5-48c1-a2f0-ff1f42558a66",
   "metadata": {},
   "outputs": [],
   "source": [
    "w = torch.randn(num_features, 1, requires_grad = True)\n",
    "b = torch.randn(1, requires_grad = True)"
   ]
  },
  {
   "cell_type": "code",
   "execution_count": 30,
   "id": "54f0d3e1-583f-49a6-9115-2fc714eff41b",
   "metadata": {},
   "outputs": [],
   "source": [
    "learning_rate = 1e-3\n",
    "optimizer = torch.optim.SGD([w, b], lr = learning_rate)"
   ]
  },
  {
   "cell_type": "code",
   "execution_count": 26,
   "id": "d10415bf-8bb2-4fb2-91e5-0ea63c426197",
   "metadata": {},
   "outputs": [
    {
     "name": "stdout",
     "output_type": "stream",
     "text": [
      "Epoch 0: 49.57064437866211\n",
      "Epoch 100: 5.626873970031738\n",
      "Epoch 200: 2.4144740104675293\n",
      "Epoch 300: 1.9716163873672485\n",
      "Epoch 400: 1.7406368255615234\n",
      "Epoch 500: 1.5465584993362427\n",
      "Epoch 600: 1.3750584125518799\n",
      "Epoch 700: 1.2229111194610596\n",
      "Epoch 800: 1.087893009185791\n",
      "Epoch 900: 0.9680720567703247\n",
      "Epoch 1000: 0.8617372512817383\n"
     ]
    }
   ],
   "source": [
    "loss_stack = []\n",
    "for epoch in range(1001):\n",
    "\n",
    "    optimizer.zero_grad()\n",
    "    y_hat = torch.matmul(x, w) + b\n",
    "    loss = torch.mean((y_hat - y)**2)\n",
    "    loss.backward()\n",
    "    optimizer.step()\n",
    "    loss_stack.append(loss.item())\n",
    "\n",
    "    if epoch % 100 == 0:\n",
    "        print(f\"Epoch {epoch}: {loss.item()}\")"
   ]
  },
  {
   "cell_type": "code",
   "execution_count": 27,
   "id": "6ecfb941-530b-43b8-ae81-c9720abae2d1",
   "metadata": {},
   "outputs": [],
   "source": [
    "with torch.no_grad():\n",
    "    y_hat = torch.matmul(x, w) + b"
   ]
  },
  {
   "cell_type": "code",
   "execution_count": 28,
   "id": "f66d612b-2857-4482-95fe-9d4fbd3d11ea",
   "metadata": {},
   "outputs": [
    {
     "data": {
      "image/png": "[encoded data removed]",
      "text/plain": [
       "<Figure size 1000x500 with 2 Axes>"
      ]
     },
     "metadata": {},
     "output_type": "display_data"
    }
   ],
   "source": [
    "plt.figure(figsize = (10, 5))\n",
    "\n",
    "plt.subplot(1, 2, 1)\n",
    "plt.plot(loss_stack)\n",
    "plt.title(\"Loss\")\n",
    "\n",
    "plt.subplot(1, 2, 2)\n",
    "plt.plot(x, y, '.b')\n",
    "plt.plot(x, y_hat, 'r-')\n",
    "\n",
    "plt.legend(['ground truth', 'prediction'])\n",
    "plt.title(\"Prediction\")\n",
    "\n",
    "plt.show()"
   ]
  },
  {
   "cell_type": "code",
   "execution_count": null,
   "id": "b4defb68-a575-44b0-8bba-0ed1dec7743a",
   "metadata": {},
   "outputs": [],
   "source": []
  }
 ],
 "metadata": {
  "kernelspec": {
   "display_name": "Python 3 (ipykernel)",
   "language": "python",
   "name": "python3"
  },
  "language_info": {
   "codemirror_mode": {
    "name": "ipython",
    "version": 3
   },
   "file_extension": ".py",
   "mimetype": "text/x-python",
   "name": "python",
   "nbconvert_exporter": "python",
   "pygments_lexer": "ipython3",
   "version": "3.10.14"
  }
 },
 "nbformat": 4,
 "nbformat_minor": 5
}
