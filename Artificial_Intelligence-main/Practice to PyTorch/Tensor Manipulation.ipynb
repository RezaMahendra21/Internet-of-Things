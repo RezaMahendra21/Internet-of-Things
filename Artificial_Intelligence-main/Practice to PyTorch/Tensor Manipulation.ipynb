{
 "cells": [
  {
   "cell_type": "markdown",
   "id": "49d8c476",
   "metadata": {},
   "source": [
    "# Tensor Manipulation"
   ]
  },
  {
   "cell_type": "markdown",
   "id": "7f541a48",
   "metadata": {},
   "source": [
    "- Scalar: 우리가 흔히 알고 있는 상수, 하나의 값을 표현. Rank = 0\n",
    "- Vector: 여러 개의 값을 가진 1차원 데이터. Rank = 1\n",
    "- Matrix: 행렬, 행과 열로 이루어진 2차원 데이터. Rank = 2\n",
    "- Tensor: n 차원의 행렬 형태로 표현. scalar는 0차원, vector는 1차원, matrix는 2차원 텐서라고 할 수 있음. Rank = n\n",
    "- e.g.: 가로, 세로 사이즈가 100인 컬러 이미지(RGB) 1장은 [3, 100, 100]의 3-d tensor로 저장.\n",
    "    - 만약 위 사진과 같은 사이즈의 이미지가 5장이 있다면, [5, 3, 100, 100]의 4-d tensor로 저장."
   ]
  },
  {
   "cell_type": "code",
   "execution_count": 1,
   "id": "820005bd",
   "metadata": {},
   "outputs": [],
   "source": [
    "import numpy as np\n",
    "import torch"
   ]
  },
  {
   "cell_type": "markdown",
   "id": "27f0aca0",
   "metadata": {},
   "source": [
    "# 1. Create a Tensor"
   ]
  },
  {
   "cell_type": "markdown",
   "id": "f57f5775",
   "metadata": {},
   "source": [
    "## 1.1. torch.tensor()"
   ]
  },
  {
   "cell_type": "code",
   "execution_count": 2,
   "id": "cf3cf8a3",
   "metadata": {},
   "outputs": [
    {
     "data": {
      "text/plain": [
       "tensor(5)"
      ]
     },
     "execution_count": 2,
     "metadata": {},
     "output_type": "execute_result"
    }
   ],
   "source": [
    "torch.tensor(5) # 0-d tensor = scalar"
   ]
  },
  {
   "cell_type": "code",
   "execution_count": 3,
   "id": "470ae8cd",
   "metadata": {},
   "outputs": [
    {
     "data": {
      "text/plain": [
       "tensor([1, 2, 3, 4, 5])"
      ]
     },
     "execution_count": 3,
     "metadata": {},
     "output_type": "execute_result"
    }
   ],
   "source": [
    "torch.tensor([1, 2, 3, 4, 5]) # 1-d tensor = vector"
   ]
  },
  {
   "cell_type": "code",
   "execution_count": 8,
   "id": "6c523938",
   "metadata": {},
   "outputs": [
    {
     "data": {
      "text/plain": [
       "tensor([[1, 2, 3],\n",
       "        [4, 5, 6]])"
      ]
     },
     "execution_count": 8,
     "metadata": {},
     "output_type": "execute_result"
    }
   ],
   "source": [
    "torch.tensor([[1, 2, 3], [4, 5, 6]]) # 2-d tensor = matrix"
   ]
  },
  {
   "cell_type": "code",
   "execution_count": 5,
   "id": "6a4d6124",
   "metadata": {
    "scrolled": true
   },
   "outputs": [
    {
     "data": {
      "text/plain": [
       "tensor([[1],\n",
       "        [2],\n",
       "        [3],\n",
       "        [4],\n",
       "        [5]])"
      ]
     },
     "execution_count": 5,
     "metadata": {},
     "output_type": "execute_result"
    }
   ],
   "source": [
    "torch.tensor([[1], [2], [3], [4], [5]]) # 5-d tensor"
   ]
  },
  {
   "cell_type": "code",
   "execution_count": 6,
   "id": "0b57709c",
   "metadata": {},
   "outputs": [
    {
     "data": {
      "text/plain": [
       "tensor([1, 2, 3, 4, 5])"
      ]
     },
     "execution_count": 6,
     "metadata": {},
     "output_type": "execute_result"
    }
   ],
   "source": [
    "temp_list = [1, 2, 3, 4, 5]\n",
    "torch.tensor(temp_list) # 1-d tensor = vector"
   ]
  },
  {
   "cell_type": "code",
   "execution_count": 7,
   "id": "5adc9483",
   "metadata": {},
   "outputs": [
    {
     "data": {
      "text/plain": [
       "tensor([1, 2, 3, 4, 5])"
      ]
     },
     "execution_count": 7,
     "metadata": {},
     "output_type": "execute_result"
    }
   ],
   "source": [
    "temp_set = {1, 2, 3, 4, 5}\n",
    "torch.tensor(temp_list) # 5-d tensor"
   ]
  },
  {
   "cell_type": "code",
   "execution_count": 9,
   "id": "899707f5",
   "metadata": {},
   "outputs": [
    {
     "data": {
      "text/plain": [
       "tensor([1, 2, 3, 4, 5])"
      ]
     },
     "execution_count": 9,
     "metadata": {},
     "output_type": "execute_result"
    }
   ],
   "source": [
    "temp_tuple = (1, 2, 3, 4, 5)\n",
    "torch.tensor(temp_tuple) # 5-d tensor"
   ]
  },
  {
   "cell_type": "code",
   "execution_count": 11,
   "id": "9ea8a1a5",
   "metadata": {},
   "outputs": [
    {
     "data": {
      "text/plain": [
       "tensor([1, 2, 3, 4, 5])"
      ]
     },
     "execution_count": 11,
     "metadata": {},
     "output_type": "execute_result"
    }
   ],
   "source": [
    "temp_np_array = np.array(temp_list)\n",
    "torch.tensor(temp_np_array)"
   ]
  },
  {
   "cell_type": "code",
   "execution_count": 12,
   "id": "d77bcf53",
   "metadata": {},
   "outputs": [
    {
     "data": {
      "text/plain": [
       "tensor([1, 2, 3, 4, 5])"
      ]
     },
     "execution_count": 12,
     "metadata": {},
     "output_type": "execute_result"
    }
   ],
   "source": [
    "torch.from_numpy(temp_np_array)"
   ]
  },
  {
   "cell_type": "markdown",
   "id": "bab58851",
   "metadata": {},
   "source": [
    "## 1.2. torch.ones()"
   ]
  },
  {
   "cell_type": "code",
   "execution_count": 13,
   "id": "8e74865b",
   "metadata": {},
   "outputs": [
    {
     "data": {
      "text/plain": [
       "tensor([1., 1., 1.])"
      ]
     },
     "execution_count": 13,
     "metadata": {},
     "output_type": "execute_result"
    }
   ],
   "source": [
    "torch.ones(3)"
   ]
  },
  {
   "cell_type": "code",
   "execution_count": 24,
   "id": "19a6cfe2",
   "metadata": {},
   "outputs": [
    {
     "data": {
      "text/plain": [
       "tensor([[1., 1., 1.],\n",
       "        [1., 1., 1.],\n",
       "        [1., 1., 1.],\n",
       "        [1., 1., 1.]])"
      ]
     },
     "execution_count": 24,
     "metadata": {},
     "output_type": "execute_result"
    }
   ],
   "source": [
    "torch.ones([4, 3])"
   ]
  },
  {
   "cell_type": "code",
   "execution_count": 23,
   "id": "4b084388",
   "metadata": {},
   "outputs": [
    {
     "data": {
      "text/plain": [
       "tensor([[[1., 1., 1.],\n",
       "         [1., 1., 1.],\n",
       "         [1., 1., 1.],\n",
       "         [1., 1., 1.]],\n",
       "\n",
       "        [[1., 1., 1.],\n",
       "         [1., 1., 1.],\n",
       "         [1., 1., 1.],\n",
       "         [1., 1., 1.]]])"
      ]
     },
     "execution_count": 23,
     "metadata": {},
     "output_type": "execute_result"
    }
   ],
   "source": [
    "torch.ones([2, 4, 3])"
   ]
  },
  {
   "cell_type": "markdown",
   "id": "b2f5ad6f",
   "metadata": {},
   "source": [
    "## 1.3. torch.zeros()"
   ]
  },
  {
   "cell_type": "code",
   "execution_count": 16,
   "id": "ef90d028",
   "metadata": {},
   "outputs": [
    {
     "data": {
      "text/plain": [
       "tensor([0., 0., 0.])"
      ]
     },
     "execution_count": 16,
     "metadata": {},
     "output_type": "execute_result"
    }
   ],
   "source": [
    "torch.zeros(3)"
   ]
  },
  {
   "cell_type": "code",
   "execution_count": 17,
   "id": "9fb5185c",
   "metadata": {},
   "outputs": [
    {
     "data": {
      "text/plain": [
       "tensor([[0., 0., 0.],\n",
       "        [0., 0., 0.],\n",
       "        [0., 0., 0.]])"
      ]
     },
     "execution_count": 17,
     "metadata": {},
     "output_type": "execute_result"
    }
   ],
   "source": [
    "torch.zeros([3, 3])"
   ]
  },
  {
   "cell_type": "code",
   "execution_count": 21,
   "id": "ccc40ff5",
   "metadata": {},
   "outputs": [
    {
     "data": {
      "text/plain": [
       "tensor([[[0., 0., 0., 0., 0.],\n",
       "         [0., 0., 0., 0., 0.],\n",
       "         [0., 0., 0., 0., 0.],\n",
       "         [0., 0., 0., 0., 0.]],\n",
       "\n",
       "        [[0., 0., 0., 0., 0.],\n",
       "         [0., 0., 0., 0., 0.],\n",
       "         [0., 0., 0., 0., 0.],\n",
       "         [0., 0., 0., 0., 0.]],\n",
       "\n",
       "        [[0., 0., 0., 0., 0.],\n",
       "         [0., 0., 0., 0., 0.],\n",
       "         [0., 0., 0., 0., 0.],\n",
       "         [0., 0., 0., 0., 0.]]])"
      ]
     },
     "execution_count": 21,
     "metadata": {},
     "output_type": "execute_result"
    }
   ],
   "source": [
    "torch.zeros([3, 4, 5])"
   ]
  },
  {
   "cell_type": "code",
   "execution_count": 28,
   "id": "191c0641",
   "metadata": {},
   "outputs": [
    {
     "data": {
      "text/plain": [
       "tensor([[[[0., 0., 0., 0.]],\n",
       "\n",
       "         [[0., 0., 0., 0.]],\n",
       "\n",
       "         [[0., 0., 0., 0.]]],\n",
       "\n",
       "\n",
       "        [[[0., 0., 0., 0.]],\n",
       "\n",
       "         [[0., 0., 0., 0.]],\n",
       "\n",
       "         [[0., 0., 0., 0.]]],\n",
       "\n",
       "\n",
       "        [[[0., 0., 0., 0.]],\n",
       "\n",
       "         [[0., 0., 0., 0.]],\n",
       "\n",
       "         [[0., 0., 0., 0.]]],\n",
       "\n",
       "\n",
       "        [[[0., 0., 0., 0.]],\n",
       "\n",
       "         [[0., 0., 0., 0.]],\n",
       "\n",
       "         [[0., 0., 0., 0.]]],\n",
       "\n",
       "\n",
       "        [[[0., 0., 0., 0.]],\n",
       "\n",
       "         [[0., 0., 0., 0.]],\n",
       "\n",
       "         [[0., 0., 0., 0.]]]])"
      ]
     },
     "execution_count": 28,
     "metadata": {},
     "output_type": "execute_result"
    }
   ],
   "source": [
    "torch.zeros([5, 3, 1, 4])"
   ]
  },
  {
   "cell_type": "markdown",
   "id": "9de8d0d2",
   "metadata": {},
   "source": [
    "## 1.3. torch.arange()"
   ]
  },
  {
   "cell_type": "code",
   "execution_count": 25,
   "id": "c90b5769",
   "metadata": {},
   "outputs": [
    {
     "data": {
      "text/plain": [
       "tensor([1, 2, 3, 4, 5, 6, 7, 8, 9])"
      ]
     },
     "execution_count": 25,
     "metadata": {},
     "output_type": "execute_result"
    }
   ],
   "source": [
    "torch.arange(1, 10)"
   ]
  },
  {
   "cell_type": "code",
   "execution_count": 26,
   "id": "a4de0269",
   "metadata": {},
   "outputs": [
    {
     "data": {
      "text/plain": [
       "tensor([22, 21, 20, 19, 18, 17, 16, 15, 14, 13, 12, 11])"
      ]
     },
     "execution_count": 26,
     "metadata": {},
     "output_type": "execute_result"
    }
   ],
   "source": [
    "torch.arange(22, 10, -1)"
   ]
  },
  {
   "cell_type": "code",
   "execution_count": 32,
   "id": "b97a6d07",
   "metadata": {},
   "outputs": [
    {
     "data": {
      "text/plain": [
       "tensor([10, 12, 14, 16, 18, 20])"
      ]
     },
     "execution_count": 32,
     "metadata": {},
     "output_type": "execute_result"
    }
   ],
   "source": [
    "torch.arange(10, 22, 2)"
   ]
  },
  {
   "cell_type": "markdown",
   "id": "536be468",
   "metadata": {},
   "source": [
    "## 1.4. torch.rand()"
   ]
  },
  {
   "cell_type": "code",
   "execution_count": 29,
   "id": "91f8f800",
   "metadata": {},
   "outputs": [
    {
     "data": {
      "text/plain": [
       "tensor([0.1522, 0.1697, 0.2454, 0.1852, 0.4975])"
      ]
     },
     "execution_count": 29,
     "metadata": {},
     "output_type": "execute_result"
    }
   ],
   "source": [
    "torch.rand(5)"
   ]
  },
  {
   "cell_type": "code",
   "execution_count": 30,
   "id": "28388b17",
   "metadata": {},
   "outputs": [
    {
     "data": {
      "text/plain": [
       "tensor([[0.0317, 0.5140, 0.2283, 0.5707, 0.4012],\n",
       "        [0.6782, 0.3302, 0.7862, 0.8646, 0.0300],\n",
       "        [0.3528, 0.9690, 0.1262, 0.8522, 0.0647],\n",
       "        [0.8909, 0.0543, 0.2557, 0.8402, 0.7074],\n",
       "        [0.7058, 0.0457, 0.3413, 0.3127, 0.7692]])"
      ]
     },
     "execution_count": 30,
     "metadata": {},
     "output_type": "execute_result"
    }
   ],
   "source": [
    "torch.rand([5, 5])"
   ]
  },
  {
   "cell_type": "markdown",
   "id": "a8d0e757",
   "metadata": {},
   "source": [
    "## 1.5. torch.xxx_like()"
   ]
  },
  {
   "cell_type": "code",
   "execution_count": 34,
   "id": "178d4ab1",
   "metadata": {},
   "outputs": [
    {
     "data": {
      "text/plain": [
       "tensor([1., 1., 1., 1., 1.])"
      ]
     },
     "execution_count": 34,
     "metadata": {},
     "output_type": "execute_result"
    }
   ],
   "source": [
    "a = torch.zeros(5)\n",
    "torch.ones_like(a)"
   ]
  },
  {
   "cell_type": "code",
   "execution_count": 35,
   "id": "3bb65871",
   "metadata": {},
   "outputs": [
    {
     "data": {
      "text/plain": [
       "tensor([0., 0., 0., 0., 0.])"
      ]
     },
     "execution_count": 35,
     "metadata": {},
     "output_type": "execute_result"
    }
   ],
   "source": [
    "torch.zeros_like(a)"
   ]
  },
  {
   "cell_type": "code",
   "execution_count": 36,
   "id": "a8995ba9",
   "metadata": {},
   "outputs": [
    {
     "data": {
      "text/plain": [
       "tensor([0.3496, 0.8052, 0.5345, 0.8157, 0.8720])"
      ]
     },
     "execution_count": 36,
     "metadata": {},
     "output_type": "execute_result"
    }
   ],
   "source": [
    "torch.rand_like(a)"
   ]
  },
  {
   "cell_type": "markdown",
   "id": "0f461353",
   "metadata": {},
   "source": [
    "# 2. Attribute: shape, dtype, device"
   ]
  },
  {
   "cell_type": "markdown",
   "id": "7ee3d68a",
   "metadata": {},
   "source": [
    "## 2.1. Tensor.shape"
   ]
  },
  {
   "cell_type": "code",
   "execution_count": 41,
   "id": "b0d8b090",
   "metadata": {},
   "outputs": [
    {
     "data": {
      "text/plain": [
       "torch.Size([5])"
      ]
     },
     "execution_count": 41,
     "metadata": {},
     "output_type": "execute_result"
    }
   ],
   "source": [
    "a = torch.tensor([1, 2, 3, 4, 5])\n",
    "a.shape"
   ]
  },
  {
   "cell_type": "code",
   "execution_count": 42,
   "id": "106e3c15",
   "metadata": {},
   "outputs": [
    {
     "data": {
      "text/plain": [
       "torch.Size([])"
      ]
     },
     "execution_count": 42,
     "metadata": {},
     "output_type": "execute_result"
    }
   ],
   "source": [
    "b = torch.tensor(5)\n",
    "b.shape"
   ]
  },
  {
   "cell_type": "markdown",
   "id": "a4fe265a",
   "metadata": {},
   "source": [
    "## 2.2. Tensor.dtype"
   ]
  },
  {
   "cell_type": "code",
   "execution_count": 38,
   "id": "dedf64e1",
   "metadata": {},
   "outputs": [
    {
     "data": {
      "text/plain": [
       "torch.int64"
      ]
     },
     "execution_count": 38,
     "metadata": {},
     "output_type": "execute_result"
    }
   ],
   "source": [
    "a.dtype"
   ]
  },
  {
   "cell_type": "code",
   "execution_count": 47,
   "id": "a644c369",
   "metadata": {},
   "outputs": [
    {
     "data": {
      "text/plain": [
       "torch.float64"
      ]
     },
     "execution_count": 47,
     "metadata": {},
     "output_type": "execute_result"
    }
   ],
   "source": [
    "# pytorch data type\n",
    "float_tensor = torch.ones([3, 5, 5], dtype = torch.float64)\n",
    "double_tensor = torch.ones(1, dtype = torch.double)\n",
    "complex_float_tensor = torch.ones(1, dtype = torch.complex64)\n",
    "complex_double_tensor = torch.ones(1, dtype = torch.complex128)\n",
    "int_tensor = torch.ones(1, dtype = torch.int)\n",
    "long_tensor = torch.ones(1, dtype = torch.long)\n",
    "uint_tensor = torch.ones(1, dtype = torch.uint8)\n",
    "bool_tensor = torch.ones(1, dtype = torch.bool)\n",
    "\n",
    "float_tensor.dtype"
   ]
  },
  {
   "cell_type": "code",
   "execution_count": 48,
   "id": "2f1140b3",
   "metadata": {},
   "outputs": [
    {
     "data": {
      "text/plain": [
       "tensor([[[1., 1., 1., 1., 1.],\n",
       "         [1., 1., 1., 1., 1.],\n",
       "         [1., 1., 1., 1., 1.],\n",
       "         [1., 1., 1., 1., 1.],\n",
       "         [1., 1., 1., 1., 1.]],\n",
       "\n",
       "        [[1., 1., 1., 1., 1.],\n",
       "         [1., 1., 1., 1., 1.],\n",
       "         [1., 1., 1., 1., 1.],\n",
       "         [1., 1., 1., 1., 1.],\n",
       "         [1., 1., 1., 1., 1.]],\n",
       "\n",
       "        [[1., 1., 1., 1., 1.],\n",
       "         [1., 1., 1., 1., 1.],\n",
       "         [1., 1., 1., 1., 1.],\n",
       "         [1., 1., 1., 1., 1.],\n",
       "         [1., 1., 1., 1., 1.]]], dtype=torch.float64)"
      ]
     },
     "execution_count": 48,
     "metadata": {},
     "output_type": "execute_result"
    }
   ],
   "source": [
    "float_tensor"
   ]
  },
  {
   "cell_type": "markdown",
   "id": "5c4ada29",
   "metadata": {},
   "source": [
    "## 2.3. Tensor.device"
   ]
  },
  {
   "cell_type": "code",
   "execution_count": 46,
   "id": "38f3cd59",
   "metadata": {},
   "outputs": [
    {
     "data": {
      "text/plain": [
       "tensor([1, 2, 3, 4, 5])"
      ]
     },
     "execution_count": 46,
     "metadata": {},
     "output_type": "execute_result"
    }
   ],
   "source": [
    "a = torch.arange(1, 6)\n",
    "a"
   ]
  },
  {
   "cell_type": "code",
   "execution_count": 49,
   "id": "73ce11c0",
   "metadata": {},
   "outputs": [
    {
     "data": {
      "text/plain": [
       "device(type='cpu')"
      ]
     },
     "execution_count": 49,
     "metadata": {},
     "output_type": "execute_result"
    }
   ],
   "source": [
    "a.device"
   ]
  },
  {
   "cell_type": "code",
   "execution_count": 51,
   "id": "b310bc21",
   "metadata": {},
   "outputs": [
    {
     "data": {
      "text/plain": [
       "False"
      ]
     },
     "execution_count": 51,
     "metadata": {},
     "output_type": "execute_result"
    }
   ],
   "source": [
    "torch.cuda.is_available() # GPU가 NVIDA일 때\n",
    "# a = torch.arange(1, 6).to('cuda')\n",
    "# a = torch.arange(1, 6).cuda()"
   ]
  },
  {
   "cell_type": "code",
   "execution_count": 53,
   "id": "0a42f6c4",
   "metadata": {},
   "outputs": [
    {
     "name": "stdout",
     "output_type": "stream",
     "text": [
      "MPS 장치를 지원하도록 build가 되었는가? True\n",
      "MPS 장치가 사용 가능한가? True\n"
     ]
    }
   ],
   "source": [
    "# 맥북\n",
    "print(f\"MPS 장치를 지원하도록 build가 되었는가? {torch.backends.mps.is_built()}\")\n",
    "print(f\"MPS 장치가 사용 가능한가? {torch.backends.mps.is_available()}\") "
   ]
  },
  {
   "cell_type": "code",
   "execution_count": 54,
   "id": "36102136",
   "metadata": {},
   "outputs": [],
   "source": [
    "device = torch.device('mps:0' if torch.backends.mps.is_available() else 'cpu')"
   ]
  },
  {
   "cell_type": "code",
   "execution_count": 66,
   "id": "976e79ee",
   "metadata": {},
   "outputs": [],
   "source": [
    "a = torch.arange(1, 6).to('mps')"
   ]
  },
  {
   "cell_type": "code",
   "execution_count": 67,
   "id": "61b62a80",
   "metadata": {},
   "outputs": [
    {
     "data": {
      "text/plain": [
       "device(type='mps', index=0)"
      ]
     },
     "execution_count": 67,
     "metadata": {},
     "output_type": "execute_result"
    }
   ],
   "source": [
    "a.device"
   ]
  },
  {
   "cell_type": "markdown",
   "id": "99dc5f0c",
   "metadata": {},
   "source": [
    "# 3. Tensor Aggregation: element wise 연산, min, max, mean"
   ]
  },
  {
   "cell_type": "markdown",
   "id": "ff2a4785",
   "metadata": {},
   "source": [
    "## 3.1. element wise 연산: tensor의 같은 자리 원소들끼리 산술 연산"
   ]
  },
  {
   "cell_type": "code",
   "execution_count": 69,
   "id": "6ffd14fc",
   "metadata": {},
   "outputs": [
    {
     "name": "stdout",
     "output_type": "stream",
     "text": [
      "tensor([[ 6,  8],\n",
      "        [10, 12]])\n",
      "tensor([[-4, -4],\n",
      "        [-4, -4]])\n",
      "tensor([[ 5, 12],\n",
      "        [21, 32]])\n",
      "tensor([[0.2000, 0.3333],\n",
      "        [0.4286, 0.5000]])\n"
     ]
    }
   ],
   "source": [
    "a = torch.tensor([[1, 2], [3, 4]])\n",
    "b = torch.tensor([[5, 6], [7, 8]])\n",
    "\n",
    "print(a + b)\n",
    "print(a - b)\n",
    "print(a * b)\n",
    "print(a / b)"
   ]
  },
  {
   "cell_type": "code",
   "execution_count": 70,
   "id": "dfa8ece5",
   "metadata": {},
   "outputs": [
    {
     "name": "stdout",
     "output_type": "stream",
     "text": [
      "tensor([[ 6,  8],\n",
      "        [10, 12]])\n",
      "tensor([[-4, -4],\n",
      "        [-4, -4]])\n",
      "tensor([[ 5, 12],\n",
      "        [21, 32]])\n",
      "tensor([[0.2000, 0.3333],\n",
      "        [0.4286, 0.5000]])\n"
     ]
    }
   ],
   "source": [
    "print(a.add(b))\n",
    "print(a.sub(b))\n",
    "print(a.mul(b))\n",
    "print(a.div(b))"
   ]
  },
  {
   "cell_type": "markdown",
   "id": "b49d645f",
   "metadata": {},
   "source": [
    "## 3.2. inplace 연산\n",
    "- 함수 뒤에 _를 붙이면 자기 자신의 값을 바꾸게 됨\n",
    "- 연산 결과를 반환하면서 동시에 자기 자신의 데이터를 고침"
   ]
  },
  {
   "cell_type": "code",
   "execution_count": 71,
   "id": "149fdb33",
   "metadata": {},
   "outputs": [
    {
     "name": "stdout",
     "output_type": "stream",
     "text": [
      "tensor([[ 6,  8],\n",
      "        [10, 12]])\n",
      "tensor([[1, 2],\n",
      "        [3, 4]])\n",
      "tensor([[ 6,  8],\n",
      "        [10, 12]])\n",
      "tensor([[ 6,  8],\n",
      "        [10, 12]])\n"
     ]
    }
   ],
   "source": [
    "print(a.add(b))\n",
    "print(a)\n",
    "print(a.add_(b))\n",
    "print(a)"
   ]
  },
  {
   "cell_type": "markdown",
   "id": "d7634f96",
   "metadata": {},
   "source": [
    "## 3.3. Tensor.min()\n",
    "- 가장 작은 값을 반환해줌\n",
    "- argument로 차원을 넣어주면 해당 차원에서 각각 가장 작은 값들과, 그 값들의 위치를 함께 반환"
   ]
  },
  {
   "cell_type": "code",
   "execution_count": 72,
   "id": "def2b10d",
   "metadata": {},
   "outputs": [
    {
     "name": "stdout",
     "output_type": "stream",
     "text": [
      "torch.Size([2, 3])\n",
      "tensor(1)\n",
      "torch.return_types.min(\n",
      "values=tensor([2, 1, 4]),\n",
      "indices=tensor([1, 0, 0]))\n",
      "torch.return_types.min(\n",
      "values=tensor([1, 2]),\n",
      "indices=tensor([1, 0]))\n"
     ]
    }
   ],
   "source": [
    "a = torch.tensor([[3, 1, 4], [2, 4, 5]])\n",
    "print(a.shape)\n",
    "print(a.min())\n",
    "print(a.min(dim = 0))\n",
    "print(a.min(dim = 1))"
   ]
  },
  {
   "cell_type": "markdown",
   "id": "7a9eee30",
   "metadata": {},
   "source": [
    "## 3.4. Tensor.max()\n",
    "- 가장 큰 값을 반환해줌\n",
    "- argument로 차원을 넣어주면 해당 차원에서 각각 가장 작은 값들과, 그 값들의 위치를 함께 반환"
   ]
  },
  {
   "cell_type": "code",
   "execution_count": 73,
   "id": "c0a0d81d",
   "metadata": {},
   "outputs": [
    {
     "name": "stdout",
     "output_type": "stream",
     "text": [
      "torch.Size([2, 3])\n",
      "tensor(5)\n",
      "torch.return_types.max(\n",
      "values=tensor([3, 4, 5]),\n",
      "indices=tensor([0, 1, 1]))\n",
      "torch.return_types.max(\n",
      "values=tensor([4, 5]),\n",
      "indices=tensor([2, 2]))\n"
     ]
    }
   ],
   "source": [
    "a = torch.tensor([[3, 1, 4], [2, 4, 5]])\n",
    "print(a.shape)\n",
    "print(a.max())\n",
    "print(a.max(dim = 0))\n",
    "print(a.max(dim = 1))"
   ]
  },
  {
   "cell_type": "markdown",
   "id": "130459af",
   "metadata": {},
   "source": [
    "## 3.5. Tensor.mean()"
   ]
  },
  {
   "cell_type": "code",
   "execution_count": 76,
   "id": "2f8e5b61",
   "metadata": {},
   "outputs": [
    {
     "name": "stdout",
     "output_type": "stream",
     "text": [
      "torch.Size([2, 3])\n",
      "tensor(3.1667)\n",
      "tensor([2.5000, 2.5000, 4.5000])\n",
      "tensor([2.6667, 3.6667])\n"
     ]
    }
   ],
   "source": [
    "a = torch.FloatTensor([[3, 1, 4], [2, 4, 5]])\n",
    "print(a.shape)\n",
    "print(a.mean())\n",
    "print(a.mean(dim = 0))\n",
    "print(a.mean(dim = 1))"
   ]
  },
  {
   "cell_type": "markdown",
   "id": "1c88ddf0",
   "metadata": {},
   "source": [
    "# 4. Indexing\n",
    "- 원하는 원소나 영역을 index를 이용하여 선택\n",
    "- 기존의 numpy, pandas의 indexing과 유사"
   ]
  },
  {
   "cell_type": "code",
   "execution_count": 77,
   "id": "b56e00a7",
   "metadata": {},
   "outputs": [
    {
     "data": {
      "text/plain": [
       "tensor([[1, 2, 3],\n",
       "        [4, 5, 6],\n",
       "        [7, 8, 9]])"
      ]
     },
     "execution_count": 77,
     "metadata": {},
     "output_type": "execute_result"
    }
   ],
   "source": [
    "a = torch.tensor([[1, 2, 3], [4, 5, 6], [7, 8, 9]])\n",
    "a"
   ]
  },
  {
   "cell_type": "code",
   "execution_count": 78,
   "id": "73f3535d",
   "metadata": {},
   "outputs": [
    {
     "data": {
      "text/plain": [
       "torch.Size([3, 3])"
      ]
     },
     "execution_count": 78,
     "metadata": {},
     "output_type": "execute_result"
    }
   ],
   "source": [
    "a.shape"
   ]
  },
  {
   "cell_type": "code",
   "execution_count": 79,
   "id": "8b787274",
   "metadata": {},
   "outputs": [
    {
     "data": {
      "text/plain": [
       "tensor(6)"
      ]
     },
     "execution_count": 79,
     "metadata": {},
     "output_type": "execute_result"
    }
   ],
   "source": [
    "a[1][2]"
   ]
  },
  {
   "cell_type": "code",
   "execution_count": 82,
   "id": "aab43197",
   "metadata": {},
   "outputs": [
    {
     "data": {
      "text/plain": [
       "tensor([[[0.2845, 0.8323, 0.9317],\n",
       "         [0.9081, 0.8582, 0.1096],\n",
       "         [0.8266, 0.6839, 0.2767]],\n",
       "\n",
       "        [[0.9714, 0.6811, 0.1872],\n",
       "         [0.6765, 0.9967, 0.8931],\n",
       "         [0.3137, 0.8512, 0.7679]],\n",
       "\n",
       "        [[0.9372, 0.5523, 0.9614],\n",
       "         [0.4622, 0.2742, 0.6311],\n",
       "         [0.9235, 0.1793, 0.2057]]])"
      ]
     },
     "execution_count": 82,
     "metadata": {},
     "output_type": "execute_result"
    }
   ],
   "source": [
    "b = torch.rand([3, 3, 3])\n",
    "b"
   ]
  },
  {
   "cell_type": "code",
   "execution_count": 85,
   "id": "d080708d",
   "metadata": {},
   "outputs": [
    {
     "data": {
      "text/plain": [
       "tensor(0.6839)"
      ]
     },
     "execution_count": 85,
     "metadata": {},
     "output_type": "execute_result"
    }
   ],
   "source": [
    "b[0][2][1]"
   ]
  },
  {
   "cell_type": "code",
   "execution_count": 94,
   "id": "e867f06e",
   "metadata": {},
   "outputs": [
    {
     "data": {
      "text/plain": [
       "tensor([[0.9081, 0.8582, 0.1096],\n",
       "        [0.8266, 0.6839, 0.2767]])"
      ]
     },
     "execution_count": 94,
     "metadata": {},
     "output_type": "execute_result"
    }
   ],
   "source": [
    "b[0][1:]"
   ]
  },
  {
   "cell_type": "markdown",
   "id": "f07d38d2",
   "metadata": {},
   "source": [
    "# 5. Shaping Operation: reshape, squeeze/unsqueeze, stack, cat\n",
    "- tensor의 shape, dimension을 조절하는 방법\n",
    "- 여러 개의 tensor를 합치는 방법"
   ]
  },
  {
   "cell_type": "markdown",
   "id": "5a55d306",
   "metadata": {},
   "source": [
    "## 5.1. Tensor.reshape()\n",
    "- 모양을 변경할 수 있음\n",
    "- 원래 사이즈를 구성하는 각 차원 별 길이 곱으로 표현 가능하다면 변경 가능\n",
    "- Tensor.shape이 [x, y]라면, 총 input size인 x*y의 값으로 표현할 수 있는 차원의 조합이면 가능"
   ]
  },
  {
   "cell_type": "code",
   "execution_count": 96,
   "id": "a82958fb",
   "metadata": {},
   "outputs": [
    {
     "data": {
      "text/plain": [
       "tensor([[0.0699, 0.6413, 0.7628, 0.3425],\n",
       "        [0.5178, 0.2197, 0.4988, 0.7831]])"
      ]
     },
     "execution_count": 96,
     "metadata": {},
     "output_type": "execute_result"
    }
   ],
   "source": [
    "a = torch.rand(2, 4)\n",
    "a"
   ]
  },
  {
   "cell_type": "code",
   "execution_count": 97,
   "id": "40912136",
   "metadata": {},
   "outputs": [
    {
     "data": {
      "text/plain": [
       "torch.Size([2, 4])"
      ]
     },
     "execution_count": 97,
     "metadata": {},
     "output_type": "execute_result"
    }
   ],
   "source": [
    "a.shape"
   ]
  },
  {
   "cell_type": "code",
   "execution_count": 101,
   "id": "70e098f8",
   "metadata": {},
   "outputs": [
    {
     "data": {
      "text/plain": [
       "tensor([0.0699, 0.6413, 0.7628, 0.3425, 0.5178, 0.2197, 0.4988, 0.7831])"
      ]
     },
     "execution_count": 101,
     "metadata": {},
     "output_type": "execute_result"
    }
   ],
   "source": [
    "a.reshape(8)"
   ]
  },
  {
   "cell_type": "code",
   "execution_count": 99,
   "id": "b79f08d6",
   "metadata": {},
   "outputs": [
    {
     "data": {
      "text/plain": [
       "tensor([[0.0699, 0.6413],\n",
       "        [0.7628, 0.3425],\n",
       "        [0.5178, 0.2197],\n",
       "        [0.4988, 0.7831]])"
      ]
     },
     "execution_count": 99,
     "metadata": {},
     "output_type": "execute_result"
    }
   ],
   "source": [
    "a.reshape(4, 2)"
   ]
  },
  {
   "cell_type": "code",
   "execution_count": 100,
   "id": "6a528c5e",
   "metadata": {},
   "outputs": [
    {
     "data": {
      "text/plain": [
       "tensor([[[0.0699, 0.6413, 0.7628, 0.3425],\n",
       "         [0.5178, 0.2197, 0.4988, 0.7831]]])"
      ]
     },
     "execution_count": 100,
     "metadata": {},
     "output_type": "execute_result"
    }
   ],
   "source": [
    "a.reshape(1, 2, 4)"
   ]
  },
  {
   "cell_type": "code",
   "execution_count": 102,
   "id": "7d3827b6",
   "metadata": {},
   "outputs": [
    {
     "data": {
      "text/plain": [
       "tensor([[[0.0699, 0.6413],\n",
       "         [0.7628, 0.3425]],\n",
       "\n",
       "        [[0.5178, 0.2197],\n",
       "         [0.4988, 0.7831]]])"
      ]
     },
     "execution_count": 102,
     "metadata": {},
     "output_type": "execute_result"
    }
   ],
   "source": [
    "a.reshape(2, 2, 2)"
   ]
  },
  {
   "cell_type": "code",
   "execution_count": 108,
   "id": "8a35a7ce",
   "metadata": {},
   "outputs": [
    {
     "data": {
      "text/plain": [
       "tensor([[0.0699, 0.6413],\n",
       "        [0.7628, 0.3425],\n",
       "        [0.5178, 0.2197],\n",
       "        [0.4988, 0.7831]])"
      ]
     },
     "execution_count": 108,
     "metadata": {},
     "output_type": "execute_result"
    }
   ],
   "source": [
    "a.reshape(-1, 2)"
   ]
  },
  {
   "cell_type": "code",
   "execution_count": 109,
   "id": "ae8c6d12",
   "metadata": {},
   "outputs": [
    {
     "ename": "RuntimeError",
     "evalue": "shape '[3, 4]' is invalid for input of size 8",
     "output_type": "error",
     "traceback": [
      "\u001b[0;31m---------------------------------------------------------------------------\u001b[0m",
      "\u001b[0;31mRuntimeError\u001b[0m                              Traceback (most recent call last)",
      "Cell \u001b[0;32mIn[109], line 1\u001b[0m\n\u001b[0;32m----> 1\u001b[0m \u001b[43ma\u001b[49m\u001b[38;5;241;43m.\u001b[39;49m\u001b[43mreshape\u001b[49m\u001b[43m(\u001b[49m\u001b[38;5;241;43m3\u001b[39;49m\u001b[43m,\u001b[49m\u001b[43m \u001b[49m\u001b[38;5;241;43m4\u001b[39;49m\u001b[43m)\u001b[49m\n",
      "\u001b[0;31mRuntimeError\u001b[0m: shape '[3, 4]' is invalid for input of size 8"
     ]
    }
   ],
   "source": [
    "a.reshape(3, 4) # invalid for input size"
   ]
  },
  {
   "cell_type": "markdown",
   "id": "5b927698",
   "metadata": {},
   "source": [
    "## 5.2. Tensor.squeeze()\n",
    "- 차원의 값이 1인 차원을 제거\n",
    "- 차원의 값이 1인 차원이 여러 개인 경우, 차원을 지정하면 해당 차원만 제거"
   ]
  },
  {
   "cell_type": "code",
   "execution_count": 111,
   "id": "0917d480",
   "metadata": {},
   "outputs": [
    {
     "data": {
      "text/plain": [
       "tensor([[[0.4915, 0.6032, 0.6091]],\n",
       "\n",
       "        [[0.6605, 0.4787, 0.3942]],\n",
       "\n",
       "        [[0.5514, 0.2440, 0.6173]]])"
      ]
     },
     "execution_count": 111,
     "metadata": {},
     "output_type": "execute_result"
    }
   ],
   "source": [
    "a = torch.rand(3, 1, 3)\n",
    "a"
   ]
  },
  {
   "cell_type": "code",
   "execution_count": 112,
   "id": "aaea2963",
   "metadata": {},
   "outputs": [
    {
     "data": {
      "text/plain": [
       "torch.Size([3, 1, 3])"
      ]
     },
     "execution_count": 112,
     "metadata": {},
     "output_type": "execute_result"
    }
   ],
   "source": [
    "a.shape"
   ]
  },
  {
   "cell_type": "code",
   "execution_count": 116,
   "id": "3ead5726",
   "metadata": {},
   "outputs": [
    {
     "data": {
      "text/plain": [
       "tensor([[0.4915, 0.6032, 0.6091],\n",
       "        [0.6605, 0.4787, 0.3942],\n",
       "        [0.5514, 0.2440, 0.6173]])"
      ]
     },
     "execution_count": 116,
     "metadata": {},
     "output_type": "execute_result"
    }
   ],
   "source": [
    "a.squeeze()"
   ]
  },
  {
   "cell_type": "code",
   "execution_count": 115,
   "id": "6c251945",
   "metadata": {},
   "outputs": [
    {
     "data": {
      "text/plain": [
       "torch.Size([3, 3])"
      ]
     },
     "execution_count": 115,
     "metadata": {},
     "output_type": "execute_result"
    }
   ],
   "source": [
    "a.squeeze().shape"
   ]
  },
  {
   "cell_type": "code",
   "execution_count": 117,
   "id": "8f7f9cf0",
   "metadata": {},
   "outputs": [
    {
     "data": {
      "text/plain": [
       "tensor([[[[0.4088, 0.2255, 0.2108,  ..., 0.5865, 0.6355, 0.9367],\n",
       "          [0.5337, 0.3506, 0.4377,  ..., 0.3138, 0.3703, 0.3260],\n",
       "          [0.8042, 0.5026, 0.2633,  ..., 0.2075, 0.8194, 0.2238],\n",
       "          ...,\n",
       "          [0.7065, 0.9733, 0.1617,  ..., 0.4127, 0.4599, 0.4814],\n",
       "          [0.5030, 0.0991, 0.1068,  ..., 0.4339, 0.4563, 0.6023],\n",
       "          [0.9391, 0.0638, 0.4760,  ..., 0.5886, 0.6571, 0.5102]]]])"
      ]
     },
     "execution_count": 117,
     "metadata": {},
     "output_type": "execute_result"
    }
   ],
   "source": [
    "a = torch.rand(1, 1, 20, 128)\n",
    "a"
   ]
  },
  {
   "cell_type": "code",
   "execution_count": 118,
   "id": "791e368f",
   "metadata": {},
   "outputs": [
    {
     "data": {
      "text/plain": [
       "torch.Size([1, 1, 20, 128])"
      ]
     },
     "execution_count": 118,
     "metadata": {},
     "output_type": "execute_result"
    }
   ],
   "source": [
    "a.shape"
   ]
  },
  {
   "cell_type": "code",
   "execution_count": 119,
   "id": "2efe5fcb",
   "metadata": {},
   "outputs": [
    {
     "data": {
      "text/plain": [
       "tensor([[0.4088, 0.2255, 0.2108,  ..., 0.5865, 0.6355, 0.9367],\n",
       "        [0.5337, 0.3506, 0.4377,  ..., 0.3138, 0.3703, 0.3260],\n",
       "        [0.8042, 0.5026, 0.2633,  ..., 0.2075, 0.8194, 0.2238],\n",
       "        ...,\n",
       "        [0.7065, 0.9733, 0.1617,  ..., 0.4127, 0.4599, 0.4814],\n",
       "        [0.5030, 0.0991, 0.1068,  ..., 0.4339, 0.4563, 0.6023],\n",
       "        [0.9391, 0.0638, 0.4760,  ..., 0.5886, 0.6571, 0.5102]])"
      ]
     },
     "execution_count": 119,
     "metadata": {},
     "output_type": "execute_result"
    }
   ],
   "source": [
    "a.squeeze()"
   ]
  },
  {
   "cell_type": "code",
   "execution_count": 120,
   "id": "709e0f59",
   "metadata": {},
   "outputs": [
    {
     "data": {
      "text/plain": [
       "torch.Size([20, 128])"
      ]
     },
     "execution_count": 120,
     "metadata": {},
     "output_type": "execute_result"
    }
   ],
   "source": [
    "a.squeeze().shape"
   ]
  },
  {
   "cell_type": "code",
   "execution_count": 121,
   "id": "419c1123",
   "metadata": {},
   "outputs": [
    {
     "data": {
      "text/plain": [
       "torch.Size([1, 1, 20, 128])"
      ]
     },
     "execution_count": 121,
     "metadata": {},
     "output_type": "execute_result"
    }
   ],
   "source": [
    "b = torch.rand(1, 1, 20, 128)\n",
    "b.shape"
   ]
  },
  {
   "cell_type": "code",
   "execution_count": 129,
   "id": "4c6658bd",
   "metadata": {},
   "outputs": [
    {
     "data": {
      "text/plain": [
       "torch.Size([1, 20, 128])"
      ]
     },
     "execution_count": 129,
     "metadata": {},
     "output_type": "execute_result"
    }
   ],
   "source": [
    "b.squeeze(dim=[1]).shape"
   ]
  },
  {
   "cell_type": "markdown",
   "id": "224d384a",
   "metadata": {},
   "source": [
    "## 5.3. Tensor.unsqueeze()\n",
    "- squeeze() 함수와 반대로 차원의 값이 1인 차원을 추가\n",
    "- 그래서 어느 차원에 1인 차원을 생성할 지 꼭 명시해야 함"
   ]
  },
  {
   "cell_type": "code",
   "execution_count": 131,
   "id": "0fda2600",
   "metadata": {},
   "outputs": [
    {
     "data": {
      "text/plain": [
       "tensor([[ 1,  2,  3,  4],\n",
       "        [ 5,  6,  7,  8],\n",
       "        [ 9, 10, 11, 12]])"
      ]
     },
     "execution_count": 131,
     "metadata": {},
     "output_type": "execute_result"
    }
   ],
   "source": [
    "a = torch.arange(1, 13).reshape(3, 4)\n",
    "a"
   ]
  },
  {
   "cell_type": "code",
   "execution_count": 132,
   "id": "aa0e3bb2",
   "metadata": {},
   "outputs": [
    {
     "data": {
      "text/plain": [
       "torch.Size([3, 4])"
      ]
     },
     "execution_count": 132,
     "metadata": {},
     "output_type": "execute_result"
    }
   ],
   "source": [
    "a.shape"
   ]
  },
  {
   "cell_type": "code",
   "execution_count": 134,
   "id": "506a8ccd",
   "metadata": {},
   "outputs": [
    {
     "name": "stdout",
     "output_type": "stream",
     "text": [
      "tensor([[[ 1,  2,  3,  4],\n",
      "         [ 5,  6,  7,  8],\n",
      "         [ 9, 10, 11, 12]]])\n",
      "torch.Size([1, 3, 4])\n"
     ]
    }
   ],
   "source": [
    "print(a.unsqueeze(dim = 0))\n",
    "print(a.unsqueeze(dim = 0).shape)"
   ]
  },
  {
   "cell_type": "code",
   "execution_count": 135,
   "id": "1082fb6d",
   "metadata": {},
   "outputs": [
    {
     "name": "stdout",
     "output_type": "stream",
     "text": [
      "tensor([[[ 1,  2,  3,  4]],\n",
      "\n",
      "        [[ 5,  6,  7,  8]],\n",
      "\n",
      "        [[ 9, 10, 11, 12]]])\n",
      "torch.Size([3, 1, 4])\n"
     ]
    }
   ],
   "source": [
    "print(a.unsqueeze(dim = 1))\n",
    "print(a.unsqueeze(dim = 1).shape)"
   ]
  },
  {
   "cell_type": "code",
   "execution_count": 136,
   "id": "8a0dd62a",
   "metadata": {},
   "outputs": [
    {
     "name": "stdout",
     "output_type": "stream",
     "text": [
      "tensor([[[ 1],\n",
      "         [ 2],\n",
      "         [ 3],\n",
      "         [ 4]],\n",
      "\n",
      "        [[ 5],\n",
      "         [ 6],\n",
      "         [ 7],\n",
      "         [ 8]],\n",
      "\n",
      "        [[ 9],\n",
      "         [10],\n",
      "         [11],\n",
      "         [12]]])\n",
      "torch.Size([3, 4, 1])\n"
     ]
    }
   ],
   "source": [
    "print(a.unsqueeze(dim = 2))\n",
    "print(a.unsqueeze(dim = 2).shape)"
   ]
  },
  {
   "attachments": {
    "image.png": {
     "image/png": "[encoded data removed]"
    }
   },
   "cell_type": "markdown",
   "id": "6466d2b0",
   "metadata": {},
   "source": [
    "## 5.4. torch.cat()\n",
    "- 차원의 갯수는 유지되고 해당 차원값이 늘어남\n",
    "- 합치려는 차원을 제외한 나머지 차원의 경우 두 텐서의 모양이 같아야 함\n",
    "![image.png](attachment:image.png)"
   ]
  },
  {
   "cell_type": "code",
   "execution_count": 137,
   "id": "e6a9beb2",
   "metadata": {},
   "outputs": [
    {
     "name": "stdout",
     "output_type": "stream",
     "text": [
      "torch.Size([10, 24, 50])\n",
      "torch.Size([5, 48, 50])\n",
      "torch.Size([5, 24, 100])\n"
     ]
    }
   ],
   "source": [
    "a = torch.rand(5, 24, 50)\n",
    "b = torch.rand(5, 24, 50)\n",
    "\n",
    "output1 = torch.cat([a, b], dim = 0) # [M+M, N, K]\n",
    "print(output1.shape)\n",
    "output2 = torch.cat([a, b], dim = 1) # [M, N+N, K]\n",
    "print(output2.shape)\n",
    "output3 = torch.cat([a, b], dim = 2) # [M, N, K+K]\n",
    "print(output3.shape)"
   ]
  },
  {
   "cell_type": "code",
   "execution_count": 138,
   "id": "2604f2cc",
   "metadata": {},
   "outputs": [
    {
     "name": "stdout",
     "output_type": "stream",
     "text": [
      "torch.Size([7, 24, 50])\n"
     ]
    },
    {
     "ename": "RuntimeError",
     "evalue": "Sizes of tensors must match except in dimension 1. Expected size 2 but got size 5 for tensor number 1 in the list.",
     "output_type": "error",
     "traceback": [
      "\u001b[0;31m---------------------------------------------------------------------------\u001b[0m",
      "\u001b[0;31mRuntimeError\u001b[0m                              Traceback (most recent call last)",
      "Cell \u001b[0;32mIn[138], line 6\u001b[0m\n\u001b[1;32m      4\u001b[0m output1 \u001b[38;5;241m=\u001b[39m torch\u001b[38;5;241m.\u001b[39mcat([a, b], dim \u001b[38;5;241m=\u001b[39m \u001b[38;5;241m0\u001b[39m) \u001b[38;5;66;03m# [M+M, N, K]\u001b[39;00m\n\u001b[1;32m      5\u001b[0m \u001b[38;5;28mprint\u001b[39m(output1\u001b[38;5;241m.\u001b[39mshape)\n\u001b[0;32m----> 6\u001b[0m output2 \u001b[38;5;241m=\u001b[39m \u001b[43mtorch\u001b[49m\u001b[38;5;241;43m.\u001b[39;49m\u001b[43mcat\u001b[49m\u001b[43m(\u001b[49m\u001b[43m[\u001b[49m\u001b[43ma\u001b[49m\u001b[43m,\u001b[49m\u001b[43m \u001b[49m\u001b[43mb\u001b[49m\u001b[43m]\u001b[49m\u001b[43m,\u001b[49m\u001b[43m \u001b[49m\u001b[43mdim\u001b[49m\u001b[43m \u001b[49m\u001b[38;5;241;43m=\u001b[39;49m\u001b[43m \u001b[49m\u001b[38;5;241;43m1\u001b[39;49m\u001b[43m)\u001b[49m \u001b[38;5;66;03m# [M, N+N, K]\u001b[39;00m\n\u001b[1;32m      7\u001b[0m \u001b[38;5;28mprint\u001b[39m(output2\u001b[38;5;241m.\u001b[39mshape)\n",
      "\u001b[0;31mRuntimeError\u001b[0m: Sizes of tensors must match except in dimension 1. Expected size 2 but got size 5 for tensor number 1 in the list."
     ]
    }
   ],
   "source": [
    "a = torch.rand(2, 24, 50)\n",
    "b = torch.rand(5, 24, 50)\n",
    "\n",
    "output1 = torch.cat([a, b], dim = 0) # [M+M, N, K]\n",
    "print(output1.shape)\n",
    "output2 = torch.cat([a, b], dim = 1) # 합치려는 곳은 차원이 달라도 되지만, 아닌 경우 같아야 함\n",
    "print(output2.shape)"
   ]
  },
  {
   "attachments": {
    "image.png": {
     "image/png": "[encoded data removed]"
    }
   },
   "cell_type": "markdown",
   "id": "28d68d6a",
   "metadata": {},
   "source": [
    "## 5.5. torch.stack()\n",
    "- tensor를 쌓는 방식으로, 지정하는 차원에 새로운 차원이 생김 = 차원의 갯수가 증가함\n",
    "- 합치려는 텐서들의 모든 차원의 모양이 같아야 함\n",
    "![image.png](attachment:image.png)"
   ]
  },
  {
   "cell_type": "code",
   "execution_count": 139,
   "id": "84bf2169",
   "metadata": {},
   "outputs": [
    {
     "name": "stdout",
     "output_type": "stream",
     "text": [
      "torch.Size([2, 3, 20, 50])\n"
     ]
    }
   ],
   "source": [
    "a = torch.rand(3, 20, 50)\n",
    "b = torch.rand(3, 20, 50)\n",
    "\n",
    "output = torch.stack([a, b], dim = 0)\n",
    "print(output.shape)"
   ]
  },
  {
   "cell_type": "code",
   "execution_count": 141,
   "id": "f9ea7bea",
   "metadata": {},
   "outputs": [
    {
     "name": "stdout",
     "output_type": "stream",
     "text": [
      "tensor([[[[0.6502, 0.1173, 0.0638,  ..., 0.4859, 0.3688, 0.6799],\n",
      "          [0.1973, 0.2569, 0.9042,  ..., 0.0479, 0.6685, 0.6961],\n",
      "          [0.5073, 0.8196, 0.1054,  ..., 0.7402, 0.8488, 0.2174],\n",
      "          ...,\n",
      "          [0.9985, 0.6165, 0.9197,  ..., 0.7664, 0.6399, 0.4976],\n",
      "          [0.7512, 0.0281, 0.3406,  ..., 0.2123, 0.3064, 0.7544],\n",
      "          [0.1704, 0.7785, 0.8046,  ..., 0.0668, 0.4242, 0.2553]],\n",
      "\n",
      "         [[0.7234, 0.6656, 0.1275,  ..., 0.8952, 0.9046, 0.4614],\n",
      "          [0.3142, 0.0433, 0.3461,  ..., 0.8896, 0.3872, 0.6622],\n",
      "          [0.5714, 0.8481, 0.7006,  ..., 0.7958, 0.1745, 0.9605],\n",
      "          ...,\n",
      "          [0.5783, 0.5347, 0.4352,  ..., 0.7751, 0.8773, 0.9754],\n",
      "          [0.8755, 0.5032, 0.6635,  ..., 0.2142, 0.8017, 0.2451],\n",
      "          [0.8379, 0.9539, 0.5524,  ..., 0.2987, 0.0559, 0.9433]],\n",
      "\n",
      "         [[0.7767, 0.7284, 0.9415,  ..., 0.5199, 0.5083, 0.5449],\n",
      "          [0.1802, 0.7153, 0.4547,  ..., 0.3512, 0.0676, 0.3826],\n",
      "          [0.9975, 0.1603, 0.0748,  ..., 0.1777, 0.3958, 0.8835],\n",
      "          ...,\n",
      "          [0.4217, 0.0050, 0.4611,  ..., 0.9922, 0.5656, 0.5244],\n",
      "          [0.8084, 0.1520, 0.7723,  ..., 0.3647, 0.4844, 0.6560],\n",
      "          [0.5083, 0.2577, 0.3978,  ..., 0.8540, 0.4729, 0.7300]]],\n",
      "\n",
      "\n",
      "        [[[0.7137, 0.5674, 0.2030,  ..., 0.3996, 0.4116, 0.5722],\n",
      "          [0.9211, 0.9640, 0.4061,  ..., 0.5327, 0.9572, 0.6945],\n",
      "          [0.8074, 0.4013, 0.4356,  ..., 0.8818, 0.9388, 0.2028],\n",
      "          ...,\n",
      "          [0.2384, 0.3822, 0.8415,  ..., 0.0287, 0.0367, 0.0811],\n",
      "          [0.9419, 0.4583, 0.5529,  ..., 0.3342, 0.9708, 0.1993],\n",
      "          [0.2256, 0.2558, 0.6529,  ..., 0.5291, 0.9534, 0.7443]],\n",
      "\n",
      "         [[0.7935, 0.2511, 0.1557,  ..., 0.4976, 0.9325, 0.7769],\n",
      "          [0.5984, 0.1834, 0.1391,  ..., 0.6437, 0.6650, 0.5874],\n",
      "          [0.0743, 0.9710, 0.5394,  ..., 0.4280, 0.0983, 0.2091],\n",
      "          ...,\n",
      "          [0.4013, 0.4841, 0.1169,  ..., 0.6784, 0.5998, 0.6068],\n",
      "          [0.2449, 0.2491, 0.7722,  ..., 0.8884, 0.1754, 0.1145],\n",
      "          [0.8351, 0.9457, 0.5155,  ..., 0.7687, 0.4866, 0.7126]],\n",
      "\n",
      "         [[0.0013, 0.0958, 0.1743,  ..., 0.7469, 0.7713, 0.2477],\n",
      "          [0.8355, 0.4951, 0.9436,  ..., 0.1187, 0.5272, 0.5692],\n",
      "          [0.7093, 0.2185, 0.8778,  ..., 0.3556, 0.2952, 0.0841],\n",
      "          ...,\n",
      "          [0.3788, 0.0509, 0.3903,  ..., 0.3148, 0.5149, 0.0672],\n",
      "          [0.6026, 0.6893, 0.6493,  ..., 0.3684, 0.0632, 0.4062],\n",
      "          [0.2816, 0.4435, 0.9184,  ..., 0.4872, 0.0584, 0.8483]]]])\n"
     ]
    }
   ],
   "source": [
    "print(output)"
   ]
  },
  {
   "cell_type": "code",
   "execution_count": 142,
   "id": "1529a552",
   "metadata": {},
   "outputs": [
    {
     "name": "stdout",
     "output_type": "stream",
     "text": [
      "torch.Size([3, 20, 2, 50])\n"
     ]
    }
   ],
   "source": [
    "a = torch.rand(3, 20, 50)\n",
    "b = torch.rand(3, 20, 50)\n",
    "\n",
    "output = torch.stack([a, b], dim = 2)\n",
    "print(output.shape)"
   ]
  },
  {
   "cell_type": "code",
   "execution_count": null,
   "id": "3f52b46f",
   "metadata": {},
   "outputs": [],
   "source": []
  }
 ],
 "metadata": {
  "kernelspec": {
   "display_name": "PyTorch",
   "language": "python",
   "name": "pytorch_env"
  },
  "language_info": {
   "codemirror_mode": {
    "name": "ipython",
    "version": 3
   },
   "file_extension": ".py",
   "mimetype": "text/x-python",
   "name": "python",
   "nbconvert_exporter": "python",
   "pygments_lexer": "ipython3",
   "version": "3.10.11"
  }
 },
 "nbformat": 4,
 "nbformat_minor": 5
}
