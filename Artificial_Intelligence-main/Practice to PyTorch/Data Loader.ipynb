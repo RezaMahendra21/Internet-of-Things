{
 "cells": [
  {
   "cell_type": "code",
   "execution_count": 14,
   "id": "255f9639-df38-46ec-abec-f7a61a22d3d4",
   "metadata": {},
   "outputs": [],
   "source": [
    "import torch\n",
    "import torchvision\n",
    "import torchvision.transforms as tr\n",
    "from torch.utils.data import DataLoader, Dataset\n",
    "import numpy as np\n",
    "import matplotlib.pyplot as plt"
   ]
  },
  {
   "cell_type": "code",
   "execution_count": 15,
   "id": "3fb092ff-d836-4e12-bf10-874032dbde04",
   "metadata": {},
   "outputs": [
    {
     "name": "stdout",
     "output_type": "stream",
     "text": [
      "Files already downloaded and verified\n",
      "Files already downloaded and verified\n"
     ]
    }
   ],
   "source": [
    "transf = tr.Compose([tr.Resize(16), tr.ToTensor()])\n",
    "trainset = torchvision.datasets.CIFAR10(root = './data', train = True, download = True, transform = transf)\n",
    "testset = torchvision.datasets.CIFAR10(root = './data', train = False, download = True, transform = transf)"
   ]
  },
  {
   "cell_type": "code",
   "execution_count": 16,
   "id": "1363bd1f-c5c9-4daf-aa40-1858865a5b98",
   "metadata": {},
   "outputs": [
    {
     "name": "stdout",
     "output_type": "stream",
     "text": [
      "torch.Size([3, 16, 16])\n"
     ]
    }
   ],
   "source": [
    "print(trainset[0][0].size())"
   ]
  },
  {
   "cell_type": "code",
   "execution_count": 17,
   "id": "d5e788b5-986c-4d10-97d4-da2a0c13455d",
   "metadata": {},
   "outputs": [],
   "source": [
    "trainloader = DataLoader(trainset, batch_size = 50, shuffle = True)\n",
    "testloader = DataLoader(testset, batch_size = 50, shuffle = False)"
   ]
  },
  {
   "cell_type": "code",
   "execution_count": 18,
   "id": "14f7ba59-4f12-4bae-919e-dd6ac9b93246",
   "metadata": {},
   "outputs": [
    {
     "data": {
      "text/plain": [
       "1000"
      ]
     },
     "execution_count": 18,
     "metadata": {},
     "output_type": "execute_result"
    }
   ],
   "source": [
    "len(trainloader) # 50000 / 50 = 1000"
   ]
  },
  {
   "cell_type": "code",
   "execution_count": 21,
   "id": "5d6b3b2e-00f9-45c4-a900-55dc7ca7cf9b",
   "metadata": {},
   "outputs": [
    {
     "name": "stdout",
     "output_type": "stream",
     "text": [
      "torch.Size([50, 3, 16, 16])\n"
     ]
    }
   ],
   "source": [
    "images, labels = next(iter(trainloader))\n",
    "print(images.size())\n",
    "# batch size x channels x width x height"
   ]
  },
  {
   "cell_type": "code",
   "execution_count": 23,
   "id": "125ee7ef-a610-409d-8ac7-7296fcf54848",
   "metadata": {},
   "outputs": [
    {
     "data": {
      "image/png": "[encoded data removed]",
      "text/plain": [
       "<Figure size 200x200 with 1 Axes>"
      ]
     },
     "metadata": {},
     "output_type": "display_data"
    }
   ],
   "source": [
    "oneshot = images[1].permute(1, 2, 0).numpy()\n",
    "\n",
    "plt.figure(figsize = (2, 2))\n",
    "plt.imshow(oneshot)\n",
    "plt.axis('off')\n",
    "plt.show()"
   ]
  },
  {
   "cell_type": "code",
   "execution_count": null,
   "id": "1b385f2c-d32f-41b9-9e9e-69df5010181b",
   "metadata": {},
   "outputs": [],
   "source": []
  }
 ],
 "metadata": {
  "kernelspec": {
   "display_name": "Python 3 (ipykernel)",
   "language": "python",
   "name": "python3"
  },
  "language_info": {
   "codemirror_mode": {
    "name": "ipython",
    "version": 3
   },
   "file_extension": ".py",
   "mimetype": "text/x-python",
   "name": "python",
   "nbconvert_exporter": "python",
   "pygments_lexer": "ipython3",
   "version": "3.10.14"
  }
 },
 "nbformat": 4,
 "nbformat_minor": 5
}
