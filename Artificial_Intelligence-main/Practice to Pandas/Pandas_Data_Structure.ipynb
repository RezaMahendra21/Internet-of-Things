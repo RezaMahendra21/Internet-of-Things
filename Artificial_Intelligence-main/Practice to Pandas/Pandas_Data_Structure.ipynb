{
 "cells": [
  {
   "cell_type": "code",
   "execution_count": 3,
   "id": "539439c4",
   "metadata": {},
   "outputs": [
    {
     "name": "stdout",
     "output_type": "stream",
     "text": [
      "100    a\n",
      "101    b\n",
      "102    c\n",
      "103    d\n",
      "dtype: object\n"
     ]
    }
   ],
   "source": [
    "import pandas as pd\n",
    "import numpy as np\n",
    "\n",
    "data = np.array(['a', 'b', 'c', 'd'])\n",
    "series = pd.Series(data, index = range(100, 104, 1))\n",
    "\n",
    "print(series)"
   ]
  },
  {
   "cell_type": "code",
   "execution_count": 4,
   "id": "4b6f0978",
   "metadata": {},
   "outputs": [
    {
     "name": "stdout",
     "output_type": "stream",
     "text": [
      "100    a\n",
      "101    b\n",
      "102    c\n",
      "103    d\n",
      "dtype: object\n"
     ]
    }
   ],
   "source": [
    "data = {100: 'a', 101: 'b', 102: 'c', 103: 'd'}\n",
    "series = pd.Series(data)\n",
    "\n",
    "print(series)"
   ]
  },
  {
   "cell_type": "code",
   "execution_count": 5,
   "id": "e3b629f0",
   "metadata": {},
   "outputs": [
    {
     "name": "stdout",
     "output_type": "stream",
     "text": [
      "1    A\n",
      "2    B\n",
      "3    C\n",
      "4    D\n",
      "5    E\n",
      "dtype: object\n"
     ]
    }
   ],
   "source": [
    "data = np.array(['A', 'B', 'C', 'D', 'E'])\n",
    "series = pd.Series(data, index = [1, 2, 3, 4, 5])\n",
    "\n",
    "print(series)"
   ]
  },
  {
   "cell_type": "code",
   "execution_count": 12,
   "id": "228f5ec6",
   "metadata": {},
   "outputs": [
    {
     "name": "stdout",
     "output_type": "stream",
     "text": [
      "    Name   Age\n",
      "0    Tim  35.0\n",
      "1  Sonya  30.0\n",
      "2  Sunny  34.0\n"
     ]
    }
   ],
   "source": [
    "data = [['Tim', 35], ['Sonya', 30], ['Sunny', 34]]\n",
    "\n",
    "df = pd.DataFrame(data, columns=['Name', 'Age'], dtype=str)\n",
    "df['Age'] = df['Age'].astype(float)\n",
    "\n",
    "print(df)"
   ]
  },
  {
   "cell_type": "code",
   "execution_count": 13,
   "id": "742825b2",
   "metadata": {},
   "outputs": [
    {
     "name": "stdout",
     "output_type": "stream",
     "text": [
      "   one  two\n",
      "a  1.0    1\n",
      "b  2.0    2\n",
      "c  3.0    3\n",
      "d  NaN    4\n"
     ]
    }
   ],
   "source": [
    "data = {'one': pd.Series([1, 2, 3], index = ['a', 'b', 'c']),\n",
    "        'two': pd.Series([1, 2, 3, 4], index = ['a', 'b', 'c', 'd'])}\n",
    "\n",
    "df = pd.DataFrame(data)\n",
    "print(df)"
   ]
  },
  {
   "cell_type": "code",
   "execution_count": 16,
   "id": "bc4516b8",
   "metadata": {},
   "outputs": [
    {
     "name": "stdout",
     "output_type": "stream",
     "text": [
      "           Artist Genre  Listeners     Plays\n",
      "0  Billie Holiday  Jazz    1300000  27000000\n",
      "1    Jimi Hendrix  Rock    2700000  70000000\n",
      "2     Miles Davis  Jazz    1500000  48000000\n",
      "3             SIA   Pop    2000000  74000000\n"
     ]
    }
   ],
   "source": [
    "data = {'Artist': pd.Series(['Billie Holiday', 'Jimi Hendrix', 'Miles Davis', 'SIA']),\n",
    "        'Genre': pd.Series(['Jazz', 'Rock', 'Jazz', 'Pop']),\n",
    "        'Listeners': pd.Series([1300000, 2700000, 1500000, 2000000]),\n",
    "        'Plays': pd.Series([27000000, 70000000, 48000000, 74000000])}\n",
    "\n",
    "df = pd.DataFrame(data)\n",
    "print(df)                    "
   ]
  },
  {
   "cell_type": "code",
   "execution_count": null,
   "id": "0c9720a7",
   "metadata": {},
   "outputs": [],
   "source": []
  }
 ],
 "metadata": {
  "kernelspec": {
   "display_name": "MP_vision",
   "language": "python",
   "name": "mp_vision"
  },
  "language_info": {
   "codemirror_mode": {
    "name": "ipython",
    "version": 3
   },
   "file_extension": ".py",
   "mimetype": "text/x-python",
   "name": "python",
   "nbconvert_exporter": "python",
   "pygments_lexer": "ipython3",
   "version": "3.10.6"
  }
 },
 "nbformat": 4,
 "nbformat_minor": 5
}
