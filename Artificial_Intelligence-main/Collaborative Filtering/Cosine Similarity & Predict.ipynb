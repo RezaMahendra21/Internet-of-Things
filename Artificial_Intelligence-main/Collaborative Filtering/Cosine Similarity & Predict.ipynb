{
 "cells": [
  {
   "cell_type": "code",
   "execution_count": 3,
   "id": "e91534aa",
   "metadata": {},
   "outputs": [
    {
     "name": "stdout",
     "output_type": "stream",
     "text": [
      "Similarity Matrix:\n",
      " [[0.         0.82686887 0.81016272 0.76277007 0.78954203]\n",
      " [0.82686887 0.         0.95938348 0.9356927  0.63781505]\n",
      " [0.81016272 0.95938348 0.         0.89442719 0.77151675]\n",
      " [0.76277007 0.9356927  0.89442719 0.         0.63831064]\n",
      " [0.78954203 0.63781505 0.77151675 0.63831064 0.        ]]\n"
     ]
    }
   ],
   "source": [
    "import numpy as np\n",
    "from numpy.linalg import norm\n",
    "\n",
    "# Updated user ratings\n",
    "alice = np.array([5, 3, 4, 4, 0])  # Alice has not rated the fifth item\n",
    "user1 = np.array([3, 1, 2, 3, 3])\n",
    "user2 = np.array([4, 3, 4, 3, 5])\n",
    "user3 = np.array([3, 3, 1, 5, 4])\n",
    "user4 = np.array([1, 5, 5, 2, 1])\n",
    "\n",
    "# Compile all ratings into a matrix\n",
    "ratings = np.array([alice, user1, user2, user3, user4])\n",
    "\n",
    "def cosine_similarity(u1, u2):\n",
    "    \"\"\"Computes cosine similarity between two vectors.\"\"\"\n",
    "    return np.dot(u1, u2) / (norm(u1) * norm(u2))\n",
    "\n",
    "# Compute the similarity matrix\n",
    "num_users = ratings.shape[0]\n",
    "similarity_matrix = np.zeros((num_users, num_users))\n",
    "\n",
    "for i in range(num_users):\n",
    "    for j in range(num_users):\n",
    "        if i != j:\n",
    "            similarity_matrix[i, j] = cosine_similarity(ratings[i], ratings[j])\n",
    "        else:\n",
    "            similarity_matrix[i, j] = 0  # exclude self-similarity\n",
    "\n",
    "print(\"Similarity Matrix:\\n\", similarity_matrix)"
   ]
  },
  {
   "cell_type": "code",
   "execution_count": 4,
   "id": "00f9ddab",
   "metadata": {},
   "outputs": [
    {
     "name": "stdout",
     "output_type": "stream",
     "text": [
      "[0.         0.82686887 0.81016272 0.76277007 0.78954203]\n",
      "[1 2 4]\n",
      "Neighbor 1: Similarity=0.8268688657895646, Rating=3, Weighted Contribution=2.480606597368694\n",
      "Neighbor 2: Similarity=0.8101627221513196, Rating=5, Weighted Contribution=4.050813610756598\n",
      "Neighbor 4: Similarity=0.7895420339517227, Rating=1, Weighted Contribution=0.7895420339517227\n",
      "7.320962242077014\n",
      "2.426573621892607\n",
      "Predicted Rating for Alice on Item 4: 3.016995724352689\n"
     ]
    }
   ],
   "source": [
    "def predict_rating(target_user_idx, item_idx, k=3):\n",
    "    \"\"\"Predicts a rating for a specific user and item based on their neighbors.\"\"\"\n",
    "    # Get similarities for the target user\n",
    "    similarities = similarity_matrix[target_user_idx]\n",
    "    print(similarities)\n",
    "    # Get the top k neighbors excluding the target user\n",
    "    neighbor_indices = similarities.argsort()[-k:][::-1]\n",
    "    print(neighbor_indices)\n",
    "    \n",
    "    # Compute the predicted rating based on weighted average\n",
    "    #numerator = sum(similarities[i] * ratings[i, item_idx] for i in neighbor_indices if ratings[i, item_idx] != 0)\n",
    "    #print(numerator)\n",
    "    \n",
    "    #Calculate the numerator explicitly\n",
    "    numerator = 0\n",
    "    for idx in neighbor_indices:\n",
    "        neighbor_similarity = similarities[idx]\n",
    "        neighbor_rating = ratings[idx, item_idx]\n",
    "        weighted_rating = neighbor_similarity * neighbor_rating\n",
    "        numerator += weighted_rating\n",
    "        print(f\"Neighbor {idx}: Similarity={neighbor_similarity}, Rating={neighbor_rating}, Weighted Contribution={weighted_rating}\")\n",
    "    \n",
    "    print(numerator)\n",
    "    denominator = sum(abs(similarities[i]) for i in neighbor_indices if ratings[i, item_idx] != 0)\n",
    "    print(denominator)\n",
    "    if denominator == 0:\n",
    "        return np.mean(ratings[target_user_idx][ratings[target_user_idx] != 0])  # Return average if no similar neighbors\n",
    "    return numerator / denominator\n",
    "\n",
    "# Predict a rating for Alice (index 0) on the fifth item (index 4)\n",
    "alice_idx = 0\n",
    "item_idx = 4  # Fifth item\n",
    "\n",
    "predicted_rating = predict_rating(alice_idx, item_idx, k=3)\n",
    "print(f\"Predicted Rating for Alice on Item {item_idx}: {predicted_rating}\")"
   ]
  },
  {
   "cell_type": "code",
   "execution_count": 7,
   "id": "bd12bebc",
   "metadata": {},
   "outputs": [
    {
     "name": "stdout",
     "output_type": "stream",
     "text": [
      "Item Similarity Matrix:\n",
      " [[0.         0.78025959 0.81978229 0.94337007 0.7592566 ]\n",
      " [0.78025959 0.         0.94201969 0.84798442 0.67320142]\n",
      " [0.81978229 0.94201969 0.         0.78402509 0.62242512]\n",
      " [0.94337007 0.84798442 0.78402509 0.         0.81152606]\n",
      " [0.7592566  0.67320142 0.62242512 0.81152606 0.        ]]\n"
     ]
    }
   ],
   "source": [
    "import numpy as np\n",
    "from numpy.linalg import norm\n",
    "\n",
    "# Updated user ratings\n",
    "alice = np.array([5, 3, 4, 4, 0])  # Alice has not rated the fifth item\n",
    "user1 = np.array([3, 1, 2, 3, 3])\n",
    "user2 = np.array([4, 3, 4, 3, 5])\n",
    "user3 = np.array([3, 3, 1, 5, 4])\n",
    "user4 = np.array([1, 5, 5, 2, 1])\n",
    "\n",
    "# Compile all ratings into a matrix\n",
    "ratings = np.array([alice, user1, user2, user3, user4]).T  # Transpose to get item-based similarity\n",
    "\n",
    "def cosine_similarity(u1, u2):\n",
    "    \"\"\"Computes cosine similarity between two vectors.\"\"\"\n",
    "    return np.dot(u1, u2) / (norm(u1) * norm(u2))\n",
    "\n",
    "# Compute the item similarity matrix\n",
    "num_items = ratings.shape[0]\n",
    "item_similarity_matrix = np.zeros((num_items, num_items))\n",
    "\n",
    "for i in range(num_items):\n",
    "    for j in range(num_items):\n",
    "        if i != j:\n",
    "            item_similarity_matrix[i, j] = cosine_similarity(ratings[i], ratings[j])\n",
    "        else:\n",
    "            item_similarity_matrix[i, j] = 0  # exclude self-similarity\n",
    "\n",
    "print(\"Item Similarity Matrix:\\n\", item_similarity_matrix)"
   ]
  },
  {
   "cell_type": "code",
   "execution_count": 8,
   "id": "c11e422f",
   "metadata": {},
   "outputs": [
    {
     "name": "stdout",
     "output_type": "stream",
     "text": [
      "[0.7592566  0.67320142 0.62242512 0.81152606 0.        ]\n",
      "[3 0 1]\n",
      "Similar Item 3: Similarity=0.8115260568382767, Rating=4, Weighted Contribution=3.246104227353107\n",
      "Similar Item 0: Similarity=0.7592566023652966, Rating=5, Weighted Contribution=3.7962830118264828\n",
      "Similar Item 1: Similarity=0.6732014170987178, Rating=3, Weighted Contribution=2.0196042512961534\n",
      "9.061991490475743\n",
      "2.2439840763022914\n",
      "Predicted Rating for Alice on Item 4: 4.038349285173352\n"
     ]
    }
   ],
   "source": [
    "def predict_item_based_rating(target_user_idx, target_item_idx, k=3):\n",
    "    \"\"\"Predicts a rating for a specific user and item based on similar items.\"\"\"\n",
    "    # Get similarities for the target item\n",
    "    item_similarities = item_similarity_matrix[target_item_idx]\n",
    "    print(item_similarities)\n",
    "\n",
    "    # Get the top k similar items excluding the target item\n",
    "    similar_item_indices = item_similarities.argsort()[-k:][::-1]\n",
    "    print(similar_item_indices)\n",
    "\n",
    "    # Compute the weighted sum numerator explicitly\n",
    "    numerator = 0\n",
    "    for idx in similar_item_indices:\n",
    "        if ratings[idx, target_user_idx] != 0:  # Ensure the user rated this item\n",
    "            item_similarity = item_similarities[idx]\n",
    "            item_rating = ratings[idx, target_user_idx]\n",
    "            weighted_rating = item_similarity * item_rating\n",
    "            numerator += weighted_rating\n",
    "            print(f\"Similar Item {idx}: Similarity={item_similarity}, Rating={item_rating}, Weighted Contribution={weighted_rating}\")\n",
    "    print(numerator)\n",
    "    # Compute the denominator as the sum of absolute similarities\n",
    "    denominator = sum(abs(item_similarities[i]) for i in similar_item_indices if ratings[i, target_user_idx] != 0)\n",
    "    print(denominator)\n",
    "\n",
    "    if denominator == 0:\n",
    "        return np.mean(ratings[:, target_user_idx][ratings[:, target_user_idx] != 0])  # Return average if no similar items\n",
    "    return numerator / denominator\n",
    "\n",
    "# Predict a rating for Alice (index 0) on the fifth item (index 4)\n",
    "alice_idx = 0  # First user (Alice)\n",
    "item_idx = 4  # Fifth item\n",
    "\n",
    "predicted_rating = predict_item_based_rating(alice_idx, item_idx, k=3)\n",
    "print(f\"Predicted Rating for Alice on Item {item_idx}: {predicted_rating}\")"
   ]
  },
  {
   "cell_type": "code",
   "execution_count": null,
   "id": "2f83aea2",
   "metadata": {},
   "outputs": [],
   "source": []
  }
 ],
 "metadata": {
  "kernelspec": {
   "display_name": "MP_vision",
   "language": "python",
   "name": "mp_vision"
  },
  "language_info": {
   "codemirror_mode": {
    "name": "ipython",
    "version": 3
   },
   "file_extension": ".py",
   "mimetype": "text/x-python",
   "name": "python",
   "nbconvert_exporter": "python",
   "pygments_lexer": "ipython3",
   "version": "3.10.6"
  }
 },
 "nbformat": 4,
 "nbformat_minor": 5
}
