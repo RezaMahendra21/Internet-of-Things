{
 "cells": [
  {
   "cell_type": "code",
   "execution_count": 8,
   "id": "c47dd5d3",
   "metadata": {},
   "outputs": [],
   "source": [
    "import pandas as pd\n",
    "import numpy as np\n",
    "\n",
    "import matplotlib.pyplot as plt\n",
    "\n",
    "from sklearn.model_selection import train_test_split\n",
    "from sklearn.neighbors import KNeighborsClassifier\n",
    "from sklearn.metrics import confusion_matrix\n",
    "from sklearn import metrics"
   ]
  },
  {
   "cell_type": "code",
   "execution_count": 9,
   "id": "246d55a4",
   "metadata": {},
   "outputs": [],
   "source": [
    "#The following dataset is given\n",
    "training_points = [\n",
    "    [158, 58],\n",
    "    [158, 59],\n",
    "    [158, 63],\n",
    "    [160, 59],\n",
    "    [160, 60],\n",
    "    [163, 60],\n",
    "    [163, 61],\n",
    "    [160, 64],\n",
    "    [163, 64],\n",
    "    [165, 61],\n",
    "    [165, 62],\n",
    "    [165, 65],\n",
    "    [168, 62],\n",
    "    [168, 63],\n",
    "    [168, 66],\n",
    "    [170, 63],\n",
    "    [170, 64],\n",
    "    [170, 68]\n",
    "]\n",
    "\n",
    "training_labels = [0, 0, 0, 0, 0, 0, 0, 1, 1, 1, 1, 1, 1, 1, 1, 1, 1, 1]"
   ]
  },
  {
   "cell_type": "code",
   "execution_count": 21,
   "id": "6b57a67f",
   "metadata": {},
   "outputs": [],
   "source": [
    "from sklearn.model_selection import train_test_split\n",
    "\n",
    "X_train, X_test, y_train, y_test = train_test_split(training_points, training_labels, test_size=0.2, random_state=4)"
   ]
  },
  {
   "cell_type": "code",
   "execution_count": 22,
   "id": "fc292fe3",
   "metadata": {},
   "outputs": [
    {
     "name": "stdout",
     "output_type": "stream",
     "text": [
      "[1 0 1 1]\n"
     ]
    }
   ],
   "source": [
    "from sklearn.neighbors import KNeighborsClassifier\n",
    "\n",
    "classifier = KNeighborsClassifier(n_neighbors = 3) #k=3\n",
    "classifier.fit(X_train, y_train)\n",
    "\n",
    "guesses = classifier.predict(X_test)\n",
    "\n",
    "print(guesses)"
   ]
  },
  {
   "cell_type": "code",
   "execution_count": 23,
   "id": "da43b928",
   "metadata": {},
   "outputs": [
    {
     "name": "stdout",
     "output_type": "stream",
     "text": [
      "[[1 1]\n",
      " [0 2]]\n",
      "0.75\n",
      "0.6666666666666666\n",
      "1.0\n",
      "0.8\n"
     ]
    }
   ],
   "source": [
    "from sklearn.metrics import confusion_matrix\n",
    "from sklearn import metrics\n",
    "\n",
    "print(confusion_matrix(y_test, guesses))\n",
    "\n",
    "print(metrics.accuracy_score(y_test, guesses))\n",
    "\n",
    "print(metrics.precision_score(y_test, guesses, average='binary'))\n",
    "\n",
    "print(metrics.recall_score(y_test, guesses, average='binary'))\n",
    "\n",
    "print(metrics.f1_score(y_test, guesses, average='binary'))"
   ]
  },
  {
   "cell_type": "code",
   "execution_count": null,
   "id": "c9416ed0",
   "metadata": {},
   "outputs": [],
   "source": []
  }
 ],
 "metadata": {
  "kernelspec": {
   "display_name": "MP_vision",
   "language": "python",
   "name": "mp_vision"
  },
  "language_info": {
   "codemirror_mode": {
    "name": "ipython",
    "version": 3
   },
   "file_extension": ".py",
   "mimetype": "text/x-python",
   "name": "python",
   "nbconvert_exporter": "python",
   "pygments_lexer": "ipython3",
   "version": "3.10.6"
  }
 },
 "nbformat": 4,
 "nbformat_minor": 5
}
